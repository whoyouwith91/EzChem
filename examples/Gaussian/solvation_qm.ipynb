{
 "cells": [
  {
   "cell_type": "code",
   "execution_count": 1,
   "metadata": {},
   "outputs": [],
   "source": [
    "import glob\n",
    "import os\n",
    "import pandas as pd\n",
    "import numpy as np\n",
    "import re\n",
    "import shutil"
   ]
  },
  {
   "cell_type": "markdown",
   "metadata": {},
   "source": [
    "# 1. Generate conformers for logp experimental"
   ]
  },
  {
   "cell_type": "code",
   "execution_count": 2,
   "metadata": {},
   "outputs": [],
   "source": [
    "logpExp = pd.read_csv('/beegfs/dz1061/datasets/logp/logp_all_processed.csv')"
   ]
  },
  {
   "cell_type": "code",
   "execution_count": 5,
   "metadata": {
    "scrolled": true
   },
   "outputs": [
    {
     "data": {
      "text/plain": [
       "(11281, 3)"
      ]
     },
     "execution_count": 5,
     "metadata": {},
     "output_type": "execute_result"
    }
   ],
   "source": [
    "logpExp.shape"
   ]
  },
  {
   "cell_type": "markdown",
   "metadata": {},
   "source": [
    "1) generate conformers for each molecule that are stored in one sdf file. "
   ]
  },
  {
   "cell_type": "markdown",
   "metadata": {},
   "source": [
    "2) separate out each conformer in the sdf file in the form of single sdf file.\n",
    "- To be noted, we separate 2000 files a time since one molecule's sdf file is able to produce large number of files. "
   ]
  },
  {
   "cell_type": "code",
   "execution_count": 2,
   "metadata": {},
   "outputs": [],
   "source": [
    "from genGaus import *"
   ]
  },
  {
   "cell_type": "code",
   "execution_count": 3,
   "metadata": {},
   "outputs": [],
   "source": [
    "num_suc, failMol = file_seperate('//beegfs/dz1061/datasets/solvation_exp/makeups_confors_sdf/', '/beegfs/dz1061/datasets/solvation_exp/makeups_confors_sep_sdf/')"
   ]
  },
  {
   "cell_type": "code",
   "execution_count": 4,
   "metadata": {},
   "outputs": [
    {
     "data": {
      "text/plain": [
       "1"
      ]
     },
     "execution_count": 4,
     "metadata": {},
     "output_type": "execute_result"
    }
   ],
   "source": [
    "num_suc"
   ]
  },
  {
   "cell_type": "markdown",
   "metadata": {},
   "source": [
    "3) generate com files. "
   ]
  },
  {
   "cell_type": "code",
   "execution_count": 6,
   "metadata": {},
   "outputs": [],
   "source": [
    "df_gas = pd.read_csv('/scratch/dz1061/gcn/logpExp/logp_part1_gas_opt.csv')"
   ]
  },
  {
   "cell_type": "code",
   "execution_count": 6,
   "metadata": {},
   "outputs": [
    {
     "data": {
      "text/html": [
       "<div>\n",
       "<style scoped>\n",
       "    .dataframe tbody tr th:only-of-type {\n",
       "        vertical-align: middle;\n",
       "    }\n",
       "\n",
       "    .dataframe tbody tr th {\n",
       "        vertical-align: top;\n",
       "    }\n",
       "\n",
       "    .dataframe thead th {\n",
       "        text-align: right;\n",
       "    }\n",
       "</style>\n",
       "<table border=\"1\" class=\"dataframe\">\n",
       "  <thead>\n",
       "    <tr style=\"text-align: right;\">\n",
       "      <th></th>\n",
       "      <th>enerGas</th>\n",
       "      <th>molID</th>\n",
       "      <th>confID</th>\n",
       "    </tr>\n",
       "  </thead>\n",
       "  <tbody>\n",
       "    <tr>\n",
       "      <th>0</th>\n",
       "      <td>-5058.120511</td>\n",
       "      <td>0</td>\n",
       "      <td>3</td>\n",
       "    </tr>\n",
       "    <tr>\n",
       "      <th>1</th>\n",
       "      <td>-5903.294881</td>\n",
       "      <td>1</td>\n",
       "      <td>1</td>\n",
       "    </tr>\n",
       "    <tr>\n",
       "      <th>2</th>\n",
       "      <td>-3428.069975</td>\n",
       "      <td>2</td>\n",
       "      <td>79</td>\n",
       "    </tr>\n",
       "    <tr>\n",
       "      <th>3</th>\n",
       "      <td>-3307.769873</td>\n",
       "      <td>3</td>\n",
       "      <td>1</td>\n",
       "    </tr>\n",
       "    <tr>\n",
       "      <th>4</th>\n",
       "      <td>-3239.216382</td>\n",
       "      <td>4</td>\n",
       "      <td>10</td>\n",
       "    </tr>\n",
       "  </tbody>\n",
       "</table>\n",
       "</div>"
      ],
      "text/plain": [
       "       enerGas  molID  confID\n",
       "0 -5058.120511      0       3\n",
       "1 -5903.294881      1       1\n",
       "2 -3428.069975      2      79\n",
       "3 -3307.769873      3       1\n",
       "4 -3239.216382      4      10"
      ]
     },
     "execution_count": 6,
     "metadata": {},
     "output_type": "execute_result"
    }
   ],
   "source": [
    "df_gas.head()"
   ]
  },
  {
   "cell_type": "code",
   "execution_count": 7,
   "metadata": {},
   "outputs": [],
   "source": [
    "for molid, confid in zip(df_gas['molID'], df_gas['confID']):\n",
    "    #print(molid, confid)\n",
    "    name = str(molid) + '_confors_' + str(confid) + '_opt_gas'\n",
    "    \n",
    "    file = '/scratch/dz1061/gcn/logpExp/gas_opt_out/' + str(molid) + \\\n",
    "    '_confors_' + str(confid) + '_opt_gas_opt.log'\n",
    "    cmd = '/share/apps/openbabel/3.0.0/intel/bin/obabel -ig16 ' + file + ' -ocom -O ' + '/scratch/dz1061/gcn/logpExp/gas_opt_com/' + name + '_opt.com'\n",
    "    os.system(cmd)\n",
    "    #break"
   ]
  },
  {
   "cell_type": "code",
   "execution_count": 4,
   "metadata": {},
   "outputs": [],
   "source": [
    "gas_com = glob.glob('/beegfs/dz1061/datasets/Frag20/Frag20_nolarger10_data/pubchem_gas_opt_com/*com')"
   ]
  },
  {
   "cell_type": "code",
   "execution_count": 24,
   "metadata": {},
   "outputs": [],
   "source": [
    "files_unfinished = []"
   ]
  },
  {
   "cell_type": "code",
   "execution_count": 25,
   "metadata": {
    "scrolled": true
   },
   "outputs": [],
   "source": [
    "for file in glob.iglob('/beegfs/dz1061/datasets/Frag20/Frag20_nolarger10_data/pubchem/*log'):\n",
    "    #print(file.split('/')[-1].split('.')[0])\n",
    "    name = file.split('/')[-1].split('.')[0]\n",
    "    #print(name)\n",
    "    file_name = '/beegfs/dz1061/datasets/Frag20/Frag20_nolarger10_data/pubchem_gas_opt_com/' + str(name) +'_gas_opt.com'\n",
    "    if file_name not in gas_com:\n",
    "        files_unfinished.append(file)\n",
    "    #print(name)\n",
    "    #print(file)\n",
    "    #cmd = '/share/apps/openbabel/3.0.0/intel/bin/obabel -ig16 ' + file + ' -ocom -O ' + '/beegfs/dz1061/datasets/solvation_exp/makeups_gas_opt_com/' + name + '_opt.com'\n",
    "    #os.system(cmd)\n",
    "    \n",
    "    #break"
   ]
  },
  {
   "cell_type": "code",
   "execution_count": 26,
   "metadata": {},
   "outputs": [
    {
     "data": {
      "text/plain": [
       "2266"
      ]
     },
     "execution_count": 26,
     "metadata": {},
     "output_type": "execute_result"
    }
   ],
   "source": [
    "len(files_unfinished)"
   ]
  },
  {
   "cell_type": "code",
   "execution_count": 28,
   "metadata": {},
   "outputs": [],
   "source": [
    "for file in files_unfinished:\n",
    "    name = file.split('/')[-1].split('.')[0]\n",
    "    cmd = '/share/apps/openbabel/3.0.0/intel/bin/obabel -ig09 ' + file + ' -ocom -O ' + '/beegfs/dz1061/datasets/Frag20/Frag20_nolarger10_data/pubchem_gas_opt_com/' + name + '_gas_opt.com'\n",
    "    os.system(cmd)"
   ]
  },
  {
   "cell_type": "code",
   "execution_count": null,
   "metadata": {},
   "outputs": [],
   "source": []
  },
  {
   "cell_type": "markdown",
   "metadata": {},
   "source": [
    "Need to check com file to gaussian file in the next steps"
   ]
  },
  {
   "cell_type": "code",
   "execution_count": 14,
   "metadata": {},
   "outputs": [],
   "source": [
    "def gaussian_gen(datadir, out_dir, phase='octanol'):\n",
    "    \"\"\" \n",
    "    Add header for guassian optimization  \n",
    "    header_file: the file with Gaussian calculation header information\n",
    "    \"\"\"\n",
    "    for file in glob.iglob(os.path.join(datadir, '*.com')):\n",
    "        #print(file)\n",
    "        name = file.split('/')[-1].split('.')[0]\n",
    "        \n",
    "        a = []\n",
    "        temp = []\n",
    "        with open(file) as f:\n",
    "            for line in f.readlines():\n",
    "                a.append(line)\n",
    "        if a:      \n",
    "            check_point='%Chk=' + '\"' + name + '_' + phase + '\"'\n",
    "            cpu = '%NProcShared=2'\n",
    "            mem = '%Mem=1GB'\n",
    "            #method = '#  B3LYP/6-31G* scrf=(smd, solvent=water)'\n",
    "            method = '#  B3LYP/6-31G* scrf=(smd, solvent=n-octanol)'\n",
    "            #method = '# opt freq B3LYP/6-31G*'\n",
    "            space = ' '\n",
    "            note = name+' octanol phase'\n",
    "\n",
    "            with open(out_dir + name + '_' + phase + '.gjf', 'w') as file:\n",
    "                temp_claim = [check_point,cpu,mem,method,space,note,space]\n",
    "                for item in temp_claim:\n",
    "                    file.write('%s\\n' % item)\n",
    "                for line in a[5:]:\n",
    "                    file.write(line)"
   ]
  },
  {
   "cell_type": "code",
   "execution_count": 12,
   "metadata": {
    "scrolled": true
   },
   "outputs": [],
   "source": [
    "gaussian_gen('/scratch/dz1061/gcn/logpExp/gas_opt_com', '/scratch/dz1061/gcn/logpExp/water_smd_gjf//')"
   ]
  },
  {
   "cell_type": "code",
   "execution_count": 15,
   "metadata": {},
   "outputs": [],
   "source": [
    "gaussian_gen('/scratch/dz1061/gcn/logpExp/gas_opt_com', '/scratch/dz1061/gcn/logpExp/octanol_smd_gjf/')"
   ]
  },
  {
   "cell_type": "code",
   "execution_count": 16,
   "metadata": {},
   "outputs": [],
   "source": [
    "def gen_in(path_in, path_out, path_result, phase):\n",
    "    \n",
    "    if phase=='gas':\n",
    "        fileList = glob.glob(path_in)\n",
    "        print(len(fileList))\n",
    "        num = int(len(fileList) / 20)\n",
    "        for k in range(num+1):\n",
    "            print((k+1)*20)\n",
    "            with open(path_out + str(k) + '_20.in','w+') as f:\n",
    "            #for file in os.listdir(path_in): \n",
    "                    #if file.endswith('.gjf'):\n",
    "                        #with open(path_out + file[:-4] + '.in','w+') as f:\n",
    "                                line1 = '#!/bin/bash'\n",
    "                                line2 = '#'\n",
    "                                line3 = '#SBATCH --job-name=' + str(k)\n",
    "                                line4 = '#SBATCH --nodes=1'\n",
    "                                line5 = '#SBATCH --cpus-per-task=2'\n",
    "                                line6 = '#SBATCH --time=100:00:00'\n",
    "                                line7 = '#SBATCH --mem=1GB'\n",
    "                                linespace = ' '\n",
    "                                line8 = 'module purge'\n",
    "                                line9 = 'module load gaussian/intel/g16a03'\n",
    "                                line10 = 'cd /scratch/dz1061/gcn/logpExp/gas_opt_gjf'\n",
    "                                lines = [line1,line2,line3,line4,line5,line6,line7,linespace,linespace,line8,line9,linespace,line10]\n",
    "                                for line in lines:\n",
    "                                    f.write(\"%s\\n\" % line)\n",
    "                                for file in fileList[k*20:(k+1)*20]:\n",
    "                                    name = file.split('/')[-1].split('.')[0]\n",
    "                                    #print(name)\n",
    "                                    line11='srun run-gaussian ' + file  + ' > ' + path_result + name + '_opt.log' + ' 2>&1' ' && mv ' + file + ' ' + '/scratch/dz1061/gcn/logpExp/gas_opt_gjf_finished/;'\n",
    "                                    f.write(\"%s\\n\" % line11)\n",
    "                                \n",
    "    if phase=='water':\n",
    "        fileList = glob.glob(path_in)\n",
    "        print(len(fileList))\n",
    "        num = int(len(fileList) / 20)\n",
    "        for k in range(num+1):\n",
    "            print((k+1)*20)\n",
    "            with open(path_out + str(k) + '_20.in','w+') as f:\n",
    "            #for file in os.listdir(path_in): \n",
    "                    #if file.endswith('.gjf'):\n",
    "                        #with open(path_out + file[:-4] + '.in','w+') as f:\n",
    "                                line1 = '#!/bin/bash'\n",
    "                                line2 = '#'\n",
    "                                line3 = '#SBATCH --job-name=' + str(k)\n",
    "                                line4 = '#SBATCH --nodes=1'\n",
    "                                line5 = '#SBATCH --cpus-per-task=2'\n",
    "                                line6 = '#SBATCH --time=30:00:00'\n",
    "                                line7 = '#SBATCH --mem=1GB'\n",
    "                                linespace = ' '\n",
    "                                line8 = 'module purge'\n",
    "                                line9 = 'module load gaussian/intel/g16a03'\n",
    "                                line10 = 'cd /scratch/dz1061/gcn/logpExp/water_smd_gjf'\n",
    "                                lines = [line1,line2,line3,line4,line5,line6,line7,linespace,linespace,line8,line9,linespace,line10]\n",
    "                                for line in lines:\n",
    "                                    f.write(\"%s\\n\" % line)\n",
    "                                for file in fileList[k*20:(k+1)*20]:\n",
    "                                    name = file.split('/')[-1].split('.')[0]\n",
    "                                    #print(name)\n",
    "                                    line11='srun run-gaussian ' + file  + ' > ' + path_result + name + '_smd.log' + ' 2>&1' ' && mv ' + file + ' ' + '/scratch/dz1061/gcn/logpExp/water_smd_gjf_finished;'\n",
    "                                    f.write(\"%s\\n\" % line11)\n",
    "            #break\n",
    "                                \n",
    "    if phase=='octanol':\n",
    "        fileList = glob.glob(path_in)\n",
    "        print(len(fileList))\n",
    "        num = int(len(fileList) / 20)\n",
    "        for k in range(num+1):\n",
    "            print((k+1)*20)\n",
    "            with open(path_out + str(k) + '_20.in','w+') as f:\n",
    "            #for file in os.listdir(path_in): \n",
    "                    #if file.endswith('.gjf'):\n",
    "                        #with open(path_out + file[:-4] + '.in','w+') as f:\n",
    "                                line1 = '#!/bin/bash'\n",
    "                                line2 = '#'\n",
    "                                line3 = '#SBATCH --job-name=' + str(k)\n",
    "                                line4 = '#SBATCH --nodes=1'\n",
    "                                line5 = '#SBATCH --cpus-per-task=2'\n",
    "                                line6 = '#SBATCH --time=30:00:00'\n",
    "                                line7 = '#SBATCH --mem=1GB'\n",
    "                                linespace = ' '\n",
    "                                line8 = 'module purge'\n",
    "                                line9 = 'module load gaussian/intel/g16a03'\n",
    "                                line10 = 'cd /scratch/dz1061/gcn/logpExp/octanol_smd_gjf'\n",
    "                                lines = [line1,line2,line3,line4,line5,line6,line7,linespace,linespace,line8,line9,linespace,line10]\n",
    "                                for line in lines:\n",
    "                                    f.write(\"%s\\n\" % line)\n",
    "                                for file in fileList[k*20:(k+1)*20]:\n",
    "                                    name = file.split('/')[-1].split('.')[0]\n",
    "                                    #print(name)\n",
    "                                    line11='srun run-gaussian ' + file  + ' > ' + path_result + name + '_smd.log' + ' 2>&1' ' && mv ' + file + ' ' + '/scratch/dz1061/gcn/logpExp/octanol_smd_gjf_finished;'\n",
    "                                    f.write(\"%s\\n\" % line11)"
   ]
  },
  {
   "cell_type": "code",
   "execution_count": 29,
   "metadata": {},
   "outputs": [
    {
     "data": {
      "text/plain": [
       "'/scratch/dz1061/gcn/logpExp/water_smd_gjf_'"
      ]
     },
     "execution_count": 29,
     "metadata": {},
     "output_type": "execute_result"
    }
   ],
   "source": [
    "'/scratch/dz1061/gcn/logpExp/water_smd_gjf' + '_'"
   ]
  },
  {
   "cell_type": "code",
   "execution_count": 1,
   "metadata": {
    "scrolled": true
   },
   "outputs": [],
   "source": [
    "#gen_in('/scratch/dz1061/gcn/logpExp/water_smd_gjf/*gjf', '/scratch/dz1061/gcn/logpExp/water_smd_in/', '/scratch/dz1061/gcn/logpExp/water_smd_out/', phase='water')"
   ]
  },
  {
   "cell_type": "code",
   "execution_count": null,
   "metadata": {},
   "outputs": [],
   "source": []
  }
 ],
 "metadata": {
  "kernelspec": {
   "display_name": "Python 3",
   "language": "python",
   "name": "python3"
  },
  "language_info": {
   "codemirror_mode": {
    "name": "ipython",
    "version": 3
   },
   "file_extension": ".py",
   "mimetype": "text/x-python",
   "name": "python",
   "nbconvert_exporter": "python",
   "pygments_lexer": "ipython3",
   "version": "3.8.5"
  }
 },
 "nbformat": 4,
 "nbformat_minor": 2
}

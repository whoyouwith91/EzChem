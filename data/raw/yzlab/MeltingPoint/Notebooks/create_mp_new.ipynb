{
 "cells": [
  {
   "cell_type": "code",
   "execution_count": 1,
   "metadata": {},
   "outputs": [],
   "source": [
    "# load necessary module\n",
    "import rdkit\n",
    "from rdkit.Chem import PandasTools\n",
    "from rdkit import Chem\n",
    "\n",
    "import numpy as np\n",
    "import pandas as pd\n",
    "import matplotlib.pyplot as plt\n",
    "%matplotlib inline\n",
    "\n",
    "import seaborn as sns\n",
    "sns.set_style('white')"
   ]
  },
  {
   "cell_type": "code",
   "execution_count": 2,
   "metadata": {},
   "outputs": [],
   "source": [
    "from rdkit.Chem.Descriptors import ExactMolWt"
   ]
  },
  {
   "cell_type": "code",
   "execution_count": 3,
   "metadata": {},
   "outputs": [],
   "source": [
    "def getMW(smi):\n",
    "    mol = Chem.MolFromInchi(smi)\n",
    "    if mol:\n",
    "        return ExactMolWt(mol)\n",
    "    else:\n",
    "        return None"
   ]
  },
  {
   "cell_type": "code",
   "execution_count": 4,
   "metadata": {},
   "outputs": [],
   "source": [
    "def getNum(smi):\n",
    "    mol = Chem.MolFromInchi(smi)\n",
    "    if mol:\n",
    "        return mol.GetNumAtoms()\n",
    "    else:\n",
    "        return None"
   ]
  },
  {
   "cell_type": "code",
   "execution_count": 5,
   "metadata": {},
   "outputs": [],
   "source": [
    "from collections import Counter, defaultdict\n",
    "\n",
    "def getEleSpread(smiList):\n",
    "    element_mol = defaultdict(list)\n",
    "    element = set()\n",
    "    for smi in smiList:\n",
    "        mol = Chem.MolFromInchi(smi)\n",
    "        if mol:\n",
    "            for c in set([atom.GetSymbol() for atom in mol.GetAtoms()]):\n",
    "                #if c not in element_mol:\n",
    "                    element_mol[c].append(smi)\n",
    "                #element.add(c)\n",
    "            #break\n",
    "    return {i:len(item) for i, item in element_mol.items()}"
   ]
  },
  {
   "cell_type": "markdown",
   "metadata": {},
   "source": [
    "## 1. PhysProp"
   ]
  },
  {
   "cell_type": "code",
   "execution_count": 8,
   "metadata": {},
   "outputs": [],
   "source": [
    "df1 = pd.read_csv('/scratch/dz1061/gcn/datasets/EXP_database/MeltingPoint/IntermediateDatasets/physprop_processed.csv')\n"
   ]
  },
  {
   "cell_type": "code",
   "execution_count": 9,
   "metadata": {},
   "outputs": [
    {
     "data": {
      "text/html": [
       "<div>\n",
       "<style scoped>\n",
       "    .dataframe tbody tr th:only-of-type {\n",
       "        vertical-align: middle;\n",
       "    }\n",
       "\n",
       "    .dataframe tbody tr th {\n",
       "        vertical-align: top;\n",
       "    }\n",
       "\n",
       "    .dataframe thead th {\n",
       "        text-align: right;\n",
       "    }\n",
       "</style>\n",
       "<table border=\"1\" class=\"dataframe\">\n",
       "  <thead>\n",
       "    <tr style=\"text-align: right;\">\n",
       "      <th></th>\n",
       "      <th>SMILES</th>\n",
       "      <th>InChI</th>\n",
       "      <th>mp</th>\n",
       "      <th>MW</th>\n",
       "      <th>NumAtoms</th>\n",
       "    </tr>\n",
       "  </thead>\n",
       "  <tbody>\n",
       "    <tr>\n",
       "      <th>0</th>\n",
       "      <td>Cl.NC(N)=N</td>\n",
       "      <td>InChI=1S/CH5N3.ClH/c2-1(3)4;/h(H5,2,3,4);1H</td>\n",
       "      <td>182.3</td>\n",
       "      <td>95.025025</td>\n",
       "      <td>5</td>\n",
       "    </tr>\n",
       "    <tr>\n",
       "      <th>1</th>\n",
       "      <td>C[C@@H]1C[C@H]2[C@@H]3CCC4=CC(=O)C=C[C@]4(C)[C...</td>\n",
       "      <td>InChI=1S/C22H29FO5/c1-12-8-16-15-5-4-13-9-14(2...</td>\n",
       "      <td>247.5</td>\n",
       "      <td>392.199902</td>\n",
       "      <td>28</td>\n",
       "    </tr>\n",
       "    <tr>\n",
       "      <th>2</th>\n",
       "      <td>CC(=O)OCC(=O)[C@@]1(O)CC[C@H]2[C@@H]3CCC4=CC(=...</td>\n",
       "      <td>InChI=1S/C23H30O6/c1-13(24)29-12-19(27)23(28)9...</td>\n",
       "      <td>222.0</td>\n",
       "      <td>402.204239</td>\n",
       "      <td>29</td>\n",
       "    </tr>\n",
       "    <tr>\n",
       "      <th>3</th>\n",
       "      <td>CCC1(c2ccccc2)C(=O)NC(=O)NC1=O</td>\n",
       "      <td>InChI=1S/C12H12N2O3/c1-2-12(8-6-4-3-5-7-8)9(15...</td>\n",
       "      <td>174.0</td>\n",
       "      <td>232.084792</td>\n",
       "      <td>17</td>\n",
       "    </tr>\n",
       "    <tr>\n",
       "      <th>4</th>\n",
       "      <td>[Br-].C[N+](CCOC(=O)C(O)(C1CCCCC1)c1ccccc1)(CC)CC</td>\n",
       "      <td>InChI=1S/C21H34NO3.BrH/c1-4-22(3,5-2)16-17-25-...</td>\n",
       "      <td>191.5</td>\n",
       "      <td>427.172206</td>\n",
       "      <td>26</td>\n",
       "    </tr>\n",
       "  </tbody>\n",
       "</table>\n",
       "</div>"
      ],
      "text/plain": [
       "                                              SMILES  \\\n",
       "0                                         Cl.NC(N)=N   \n",
       "1  C[C@@H]1C[C@H]2[C@@H]3CCC4=CC(=O)C=C[C@]4(C)[C...   \n",
       "2  CC(=O)OCC(=O)[C@@]1(O)CC[C@H]2[C@@H]3CCC4=CC(=...   \n",
       "3                     CCC1(c2ccccc2)C(=O)NC(=O)NC1=O   \n",
       "4  [Br-].C[N+](CCOC(=O)C(O)(C1CCCCC1)c1ccccc1)(CC)CC   \n",
       "\n",
       "                                               InChI     mp          MW  \\\n",
       "0        InChI=1S/CH5N3.ClH/c2-1(3)4;/h(H5,2,3,4);1H  182.3   95.025025   \n",
       "1  InChI=1S/C22H29FO5/c1-12-8-16-15-5-4-13-9-14(2...  247.5  392.199902   \n",
       "2  InChI=1S/C23H30O6/c1-13(24)29-12-19(27)23(28)9...  222.0  402.204239   \n",
       "3  InChI=1S/C12H12N2O3/c1-2-12(8-6-4-3-5-7-8)9(15...  174.0  232.084792   \n",
       "4  InChI=1S/C21H34NO3.BrH/c1-4-22(3,5-2)16-17-25-...  191.5  427.172206   \n",
       "\n",
       "   NumAtoms  \n",
       "0         5  \n",
       "1        28  \n",
       "2        29  \n",
       "3        17  \n",
       "4        26  "
      ]
     },
     "execution_count": 9,
     "metadata": {},
     "output_type": "execute_result"
    }
   ],
   "source": [
    "df1.head()"
   ]
  },
  {
   "cell_type": "code",
   "execution_count": 10,
   "metadata": {},
   "outputs": [
    {
     "data": {
      "text/plain": [
       "(8656, 5)"
      ]
     },
     "execution_count": 10,
     "metadata": {},
     "output_type": "execute_result"
    }
   ],
   "source": [
    "df1.shape"
   ]
  },
  {
   "cell_type": "code",
   "execution_count": 11,
   "metadata": {},
   "outputs": [
    {
     "data": {
      "text/plain": [
       "8656"
      ]
     },
     "execution_count": 11,
     "metadata": {},
     "output_type": "execute_result"
    }
   ],
   "source": [
    "len(set(df1['InChI']))"
   ]
  },
  {
   "cell_type": "code",
   "execution_count": 12,
   "metadata": {},
   "outputs": [],
   "source": [
    "df1['MW'] = df1['InChI'].apply(lambda x: getMW(x))\n",
    "df1['NumAtoms'] = df1['InChI'].apply(lambda x: getNum(x))"
   ]
  },
  {
   "cell_type": "code",
   "execution_count": 13,
   "metadata": {},
   "outputs": [
    {
     "data": {
      "text/html": [
       "<div>\n",
       "<style scoped>\n",
       "    .dataframe tbody tr th:only-of-type {\n",
       "        vertical-align: middle;\n",
       "    }\n",
       "\n",
       "    .dataframe tbody tr th {\n",
       "        vertical-align: top;\n",
       "    }\n",
       "\n",
       "    .dataframe thead th {\n",
       "        text-align: right;\n",
       "    }\n",
       "</style>\n",
       "<table border=\"1\" class=\"dataframe\">\n",
       "  <thead>\n",
       "    <tr style=\"text-align: right;\">\n",
       "      <th></th>\n",
       "      <th>mp</th>\n",
       "      <th>MW</th>\n",
       "      <th>NumAtoms</th>\n",
       "    </tr>\n",
       "  </thead>\n",
       "  <tbody>\n",
       "    <tr>\n",
       "      <th>count</th>\n",
       "      <td>8656.000000</td>\n",
       "      <td>8656.000000</td>\n",
       "      <td>8656.000000</td>\n",
       "    </tr>\n",
       "    <tr>\n",
       "      <th>mean</th>\n",
       "      <td>80.475925</td>\n",
       "      <td>219.073475</td>\n",
       "      <td>14.484404</td>\n",
       "    </tr>\n",
       "    <tr>\n",
       "      <th>std</th>\n",
       "      <td>99.353991</td>\n",
       "      <td>109.143682</td>\n",
       "      <td>7.341059</td>\n",
       "    </tr>\n",
       "    <tr>\n",
       "      <th>min</th>\n",
       "      <td>-196.000000</td>\n",
       "      <td>16.031300</td>\n",
       "      <td>1.000000</td>\n",
       "    </tr>\n",
       "    <tr>\n",
       "      <th>25%</th>\n",
       "      <td>16.000000</td>\n",
       "      <td>144.042259</td>\n",
       "      <td>9.000000</td>\n",
       "    </tr>\n",
       "    <tr>\n",
       "      <th>50%</th>\n",
       "      <td>80.000000</td>\n",
       "      <td>194.057909</td>\n",
       "      <td>13.000000</td>\n",
       "    </tr>\n",
       "    <tr>\n",
       "      <th>75%</th>\n",
       "      <td>151.500000</td>\n",
       "      <td>272.432019</td>\n",
       "      <td>18.000000</td>\n",
       "    </tr>\n",
       "    <tr>\n",
       "      <th>max</th>\n",
       "      <td>492.500000</td>\n",
       "      <td>1237.920161</td>\n",
       "      <td>85.000000</td>\n",
       "    </tr>\n",
       "  </tbody>\n",
       "</table>\n",
       "</div>"
      ],
      "text/plain": [
       "                mp           MW     NumAtoms\n",
       "count  8656.000000  8656.000000  8656.000000\n",
       "mean     80.475925   219.073475    14.484404\n",
       "std      99.353991   109.143682     7.341059\n",
       "min    -196.000000    16.031300     1.000000\n",
       "25%      16.000000   144.042259     9.000000\n",
       "50%      80.000000   194.057909    13.000000\n",
       "75%     151.500000   272.432019    18.000000\n",
       "max     492.500000  1237.920161    85.000000"
      ]
     },
     "execution_count": 13,
     "metadata": {},
     "output_type": "execute_result"
    }
   ],
   "source": [
    "df1.describe()"
   ]
  },
  {
   "cell_type": "code",
   "execution_count": 14,
   "metadata": {},
   "outputs": [],
   "source": [
    "df1['source'] = 'PhysProp'"
   ]
  },
  {
   "cell_type": "code",
   "execution_count": 16,
   "metadata": {},
   "outputs": [
    {
     "name": "stdout",
     "output_type": "stream",
     "text": [
      "dict_keys(['N', 'Cl', 'C', 'O', 'F', 'Br', 'P', 'S', 'I', 'Na', 'B', 'Si', 'As', 'K', 'Se'])\n"
     ]
    }
   ],
   "source": [
    "print(getEleSpread(df1['InChI'].tolist()).keys())"
   ]
  },
  {
   "cell_type": "code",
   "execution_count": 18,
   "metadata": {},
   "outputs": [],
   "source": [
    "df1.to_csv('/scratch/dz1061/gcn/datasets/EXP_database/MeltingPoint/IntermediateDatasets/physprop_processed.csv', index=False)"
   ]
  },
  {
   "cell_type": "markdown",
   "metadata": {},
   "source": [
    "## 2. bradley"
   ]
  },
  {
   "cell_type": "code",
   "execution_count": 6,
   "metadata": {},
   "outputs": [],
   "source": [
    "df2 = pd.read_csv('/scratch/dz1061/gcn/datasets/EXP_database/MeltingPoint/IntermediateDatasets/bradley_processed.csv')\n"
   ]
  },
  {
   "cell_type": "code",
   "execution_count": 7,
   "metadata": {},
   "outputs": [
    {
     "data": {
      "text/html": [
       "<div>\n",
       "<style scoped>\n",
       "    .dataframe tbody tr th:only-of-type {\n",
       "        vertical-align: middle;\n",
       "    }\n",
       "\n",
       "    .dataframe tbody tr th {\n",
       "        vertical-align: top;\n",
       "    }\n",
       "\n",
       "    .dataframe thead th {\n",
       "        text-align: right;\n",
       "    }\n",
       "</style>\n",
       "<table border=\"1\" class=\"dataframe\">\n",
       "  <thead>\n",
       "    <tr style=\"text-align: right;\">\n",
       "      <th></th>\n",
       "      <th>SMILES</th>\n",
       "      <th>InChI</th>\n",
       "      <th>mp</th>\n",
       "      <th>MW</th>\n",
       "      <th>NumAtoms</th>\n",
       "    </tr>\n",
       "  </thead>\n",
       "  <tbody>\n",
       "    <tr>\n",
       "      <th>0</th>\n",
       "      <td>C1(CCC1)C</td>\n",
       "      <td>InChI=1S/C5H10/c1-5-3-2-4-5/h5H,2-4H2,1H3</td>\n",
       "      <td>-161.51</td>\n",
       "      <td>70.078250</td>\n",
       "      <td>5</td>\n",
       "    </tr>\n",
       "    <tr>\n",
       "      <th>1</th>\n",
       "      <td>[O-][N+]#N</td>\n",
       "      <td>InChI=1S/N2O/c1-2-3</td>\n",
       "      <td>-90.80</td>\n",
       "      <td>44.001063</td>\n",
       "      <td>3</td>\n",
       "    </tr>\n",
       "    <tr>\n",
       "      <th>2</th>\n",
       "      <td>FS(F)(=O)=O</td>\n",
       "      <td>InChI=1S/F2O2S/c1-5(2,3)4</td>\n",
       "      <td>-135.80</td>\n",
       "      <td>101.958707</td>\n",
       "      <td>5</td>\n",
       "    </tr>\n",
       "    <tr>\n",
       "      <th>3</th>\n",
       "      <td>CC(C)N(CCC(c1ccccn1)(c2ccccc2)C(N)=O)C(C)C</td>\n",
       "      <td>InChI=1S/C21H29N3O/c1-16(2)24(17(3)4)15-13-21(...</td>\n",
       "      <td>94.80</td>\n",
       "      <td>339.231063</td>\n",
       "      <td>25</td>\n",
       "    </tr>\n",
       "    <tr>\n",
       "      <th>4</th>\n",
       "      <td>BrBr</td>\n",
       "      <td>InChI=1S/Br2/c1-2</td>\n",
       "      <td>-7.20</td>\n",
       "      <td>157.836674</td>\n",
       "      <td>2</td>\n",
       "    </tr>\n",
       "  </tbody>\n",
       "</table>\n",
       "</div>"
      ],
      "text/plain": [
       "                                       SMILES  \\\n",
       "0                                   C1(CCC1)C   \n",
       "1                                  [O-][N+]#N   \n",
       "2                                 FS(F)(=O)=O   \n",
       "3  CC(C)N(CCC(c1ccccn1)(c2ccccc2)C(N)=O)C(C)C   \n",
       "4                                        BrBr   \n",
       "\n",
       "                                               InChI      mp          MW  \\\n",
       "0          InChI=1S/C5H10/c1-5-3-2-4-5/h5H,2-4H2,1H3 -161.51   70.078250   \n",
       "1                                InChI=1S/N2O/c1-2-3  -90.80   44.001063   \n",
       "2                          InChI=1S/F2O2S/c1-5(2,3)4 -135.80  101.958707   \n",
       "3  InChI=1S/C21H29N3O/c1-16(2)24(17(3)4)15-13-21(...   94.80  339.231063   \n",
       "4                                  InChI=1S/Br2/c1-2   -7.20  157.836674   \n",
       "\n",
       "   NumAtoms  \n",
       "0         5  \n",
       "1         3  \n",
       "2         5  \n",
       "3        25  \n",
       "4         2  "
      ]
     },
     "execution_count": 7,
     "metadata": {},
     "output_type": "execute_result"
    }
   ],
   "source": [
    "df2.head()"
   ]
  },
  {
   "cell_type": "code",
   "execution_count": 8,
   "metadata": {},
   "outputs": [
    {
     "data": {
      "text/plain": [
       "(3025, 5)"
      ]
     },
     "execution_count": 8,
     "metadata": {},
     "output_type": "execute_result"
    }
   ],
   "source": [
    "df2.shape"
   ]
  },
  {
   "cell_type": "code",
   "execution_count": 20,
   "metadata": {},
   "outputs": [
    {
     "data": {
      "text/plain": [
       "3022"
      ]
     },
     "execution_count": 20,
     "metadata": {},
     "output_type": "execute_result"
    }
   ],
   "source": [
    "len(set(df2['InChI']))"
   ]
  },
  {
   "cell_type": "code",
   "execution_count": 21,
   "metadata": {},
   "outputs": [],
   "source": [
    "df2['MW'] = df2['InChI'].apply(lambda x: getMW(x))\n",
    "df2['NumAtoms'] = df2['InChI'].apply(lambda x: getNum(x))"
   ]
  },
  {
   "cell_type": "code",
   "execution_count": 9,
   "metadata": {},
   "outputs": [
    {
     "data": {
      "text/html": [
       "<div>\n",
       "<style scoped>\n",
       "    .dataframe tbody tr th:only-of-type {\n",
       "        vertical-align: middle;\n",
       "    }\n",
       "\n",
       "    .dataframe tbody tr th {\n",
       "        vertical-align: top;\n",
       "    }\n",
       "\n",
       "    .dataframe thead th {\n",
       "        text-align: right;\n",
       "    }\n",
       "</style>\n",
       "<table border=\"1\" class=\"dataframe\">\n",
       "  <thead>\n",
       "    <tr style=\"text-align: right;\">\n",
       "      <th></th>\n",
       "      <th>mp</th>\n",
       "      <th>MW</th>\n",
       "      <th>NumAtoms</th>\n",
       "    </tr>\n",
       "  </thead>\n",
       "  <tbody>\n",
       "    <tr>\n",
       "      <th>count</th>\n",
       "      <td>3025.000000</td>\n",
       "      <td>3025.000000</td>\n",
       "      <td>3025.000000</td>\n",
       "    </tr>\n",
       "    <tr>\n",
       "      <th>mean</th>\n",
       "      <td>62.254496</td>\n",
       "      <td>180.178042</td>\n",
       "      <td>11.896860</td>\n",
       "    </tr>\n",
       "    <tr>\n",
       "      <th>std</th>\n",
       "      <td>95.663463</td>\n",
       "      <td>79.889082</td>\n",
       "      <td>5.494701</td>\n",
       "    </tr>\n",
       "    <tr>\n",
       "      <th>min</th>\n",
       "      <td>-188.000000</td>\n",
       "      <td>16.031300</td>\n",
       "      <td>1.000000</td>\n",
       "    </tr>\n",
       "    <tr>\n",
       "      <th>25%</th>\n",
       "      <td>5.000000</td>\n",
       "      <td>129.151750</td>\n",
       "      <td>8.000000</td>\n",
       "    </tr>\n",
       "    <tr>\n",
       "      <th>50%</th>\n",
       "      <td>63.000000</td>\n",
       "      <td>166.062994</td>\n",
       "      <td>11.000000</td>\n",
       "    </tr>\n",
       "    <tr>\n",
       "      <th>75%</th>\n",
       "      <td>129.000000</td>\n",
       "      <td>214.039672</td>\n",
       "      <td>14.000000</td>\n",
       "    </tr>\n",
       "    <tr>\n",
       "      <th>max</th>\n",
       "      <td>438.000000</td>\n",
       "      <td>949.178286</td>\n",
       "      <td>62.000000</td>\n",
       "    </tr>\n",
       "  </tbody>\n",
       "</table>\n",
       "</div>"
      ],
      "text/plain": [
       "                mp           MW     NumAtoms\n",
       "count  3025.000000  3025.000000  3025.000000\n",
       "mean     62.254496   180.178042    11.896860\n",
       "std      95.663463    79.889082     5.494701\n",
       "min    -188.000000    16.031300     1.000000\n",
       "25%       5.000000   129.151750     8.000000\n",
       "50%      63.000000   166.062994    11.000000\n",
       "75%     129.000000   214.039672    14.000000\n",
       "max     438.000000   949.178286    62.000000"
      ]
     },
     "execution_count": 9,
     "metadata": {},
     "output_type": "execute_result"
    }
   ],
   "source": [
    "df2.describe()"
   ]
  },
  {
   "cell_type": "code",
   "execution_count": 23,
   "metadata": {},
   "outputs": [
    {
     "name": "stdout",
     "output_type": "stream",
     "text": [
      "dict_keys(['C', 'O', 'N', 'F', 'S', 'Br', 'Cl', 'I', 'B', 'P', 'Si'])\n"
     ]
    }
   ],
   "source": [
    "print(getEleSpread(df2['InChI'].tolist()).keys())"
   ]
  },
  {
   "cell_type": "code",
   "execution_count": 35,
   "metadata": {},
   "outputs": [],
   "source": [
    "df2.to_csv('/scratch/dz1061/gcn/datasets/EXP_database/MeltingPoint/IntermediateDatasets/bradley_processed.csv', index=False)"
   ]
  },
  {
   "cell_type": "code",
   "execution_count": 43,
   "metadata": {},
   "outputs": [],
   "source": [
    "df2['source'] = 'Bradley'"
   ]
  },
  {
   "cell_type": "markdown",
   "metadata": {},
   "source": [
    "## 3. zang"
   ]
  },
  {
   "cell_type": "code",
   "execution_count": 24,
   "metadata": {},
   "outputs": [],
   "source": [
    "df3_0 = pd.read_csv('/scratch/dz1061/gcn/datasets/EXP_database/MeltingPoint/IntermediateDatasets/zang_processed.csv')\n",
    "df3_1 = pd.read_csv('/scratch/dz1061/gcn/datasets/EXP_database/MeltingPoint/IntermediateDatasets/test_zang_processed.csv')\n"
   ]
  },
  {
   "cell_type": "code",
   "execution_count": 25,
   "metadata": {},
   "outputs": [
    {
     "data": {
      "text/html": [
       "<div>\n",
       "<style scoped>\n",
       "    .dataframe tbody tr th:only-of-type {\n",
       "        vertical-align: middle;\n",
       "    }\n",
       "\n",
       "    .dataframe tbody tr th {\n",
       "        vertical-align: top;\n",
       "    }\n",
       "\n",
       "    .dataframe thead th {\n",
       "        text-align: right;\n",
       "    }\n",
       "</style>\n",
       "<table border=\"1\" class=\"dataframe\">\n",
       "  <thead>\n",
       "    <tr style=\"text-align: right;\">\n",
       "      <th></th>\n",
       "      <th>SMILES</th>\n",
       "      <th>InChI</th>\n",
       "      <th>mp</th>\n",
       "    </tr>\n",
       "  </thead>\n",
       "  <tbody>\n",
       "    <tr>\n",
       "      <th>0</th>\n",
       "      <td>Cl.NC(N)=N</td>\n",
       "      <td>InChI=1S/CH5N3.ClH/c2-1(3)4;/h(H5,2,3,4);1H</td>\n",
       "      <td>182.3</td>\n",
       "    </tr>\n",
       "    <tr>\n",
       "      <th>1</th>\n",
       "      <td>C[C@@H]1C[C@H]2[C@@H]3CCC4=CC(=O)C=C[C@]4(C)[C...</td>\n",
       "      <td>InChI=1S/C22H29FO5/c1-12-8-16-15-5-4-13-9-14(2...</td>\n",
       "      <td>247.5</td>\n",
       "    </tr>\n",
       "    <tr>\n",
       "      <th>2</th>\n",
       "      <td>CC(=O)OCC(=O)[C@@]1(O)CC[C@H]2[C@@H]3CCC4=CC(=...</td>\n",
       "      <td>InChI=1S/C23H30O6/c1-13(24)29-12-19(27)23(28)9...</td>\n",
       "      <td>222.0</td>\n",
       "    </tr>\n",
       "    <tr>\n",
       "      <th>3</th>\n",
       "      <td>[Br-].C[N+](CCOC(=O)C(O)(C1CCCCC1)c1ccccc1)(CC)CC</td>\n",
       "      <td>InChI=1S/C21H34NO3.BrH/c1-4-22(3,5-2)16-17-25-...</td>\n",
       "      <td>191.5</td>\n",
       "    </tr>\n",
       "    <tr>\n",
       "      <th>4</th>\n",
       "      <td>CN1C(=O)NC(=O)C(CC)(CC)C1=O</td>\n",
       "      <td>InChI=1S/C9H14N2O3/c1-4-9(5-2)6(12)10-8(14)11(...</td>\n",
       "      <td>150.5</td>\n",
       "    </tr>\n",
       "  </tbody>\n",
       "</table>\n",
       "</div>"
      ],
      "text/plain": [
       "                                              SMILES  \\\n",
       "0                                         Cl.NC(N)=N   \n",
       "1  C[C@@H]1C[C@H]2[C@@H]3CCC4=CC(=O)C=C[C@]4(C)[C...   \n",
       "2  CC(=O)OCC(=O)[C@@]1(O)CC[C@H]2[C@@H]3CCC4=CC(=...   \n",
       "3  [Br-].C[N+](CCOC(=O)C(O)(C1CCCCC1)c1ccccc1)(CC)CC   \n",
       "4                        CN1C(=O)NC(=O)C(CC)(CC)C1=O   \n",
       "\n",
       "                                               InChI     mp  \n",
       "0        InChI=1S/CH5N3.ClH/c2-1(3)4;/h(H5,2,3,4);1H  182.3  \n",
       "1  InChI=1S/C22H29FO5/c1-12-8-16-15-5-4-13-9-14(2...  247.5  \n",
       "2  InChI=1S/C23H30O6/c1-13(24)29-12-19(27)23(28)9...  222.0  \n",
       "3  InChI=1S/C21H34NO3.BrH/c1-4-22(3,5-2)16-17-25-...  191.5  \n",
       "4  InChI=1S/C9H14N2O3/c1-4-9(5-2)6(12)10-8(14)11(...  150.5  "
      ]
     },
     "execution_count": 25,
     "metadata": {},
     "output_type": "execute_result"
    }
   ],
   "source": [
    "df3_0.head()"
   ]
  },
  {
   "cell_type": "code",
   "execution_count": 26,
   "metadata": {},
   "outputs": [
    {
     "data": {
      "text/plain": [
       "(6485, 3)"
      ]
     },
     "execution_count": 26,
     "metadata": {},
     "output_type": "execute_result"
    }
   ],
   "source": [
    "df3_0.shape"
   ]
  },
  {
   "cell_type": "code",
   "execution_count": 27,
   "metadata": {},
   "outputs": [
    {
     "data": {
      "text/html": [
       "<div>\n",
       "<style scoped>\n",
       "    .dataframe tbody tr th:only-of-type {\n",
       "        vertical-align: middle;\n",
       "    }\n",
       "\n",
       "    .dataframe tbody tr th {\n",
       "        vertical-align: top;\n",
       "    }\n",
       "\n",
       "    .dataframe thead th {\n",
       "        text-align: right;\n",
       "    }\n",
       "</style>\n",
       "<table border=\"1\" class=\"dataframe\">\n",
       "  <thead>\n",
       "    <tr style=\"text-align: right;\">\n",
       "      <th></th>\n",
       "      <th>SMILES</th>\n",
       "      <th>InChI</th>\n",
       "      <th>mp</th>\n",
       "    </tr>\n",
       "  </thead>\n",
       "  <tbody>\n",
       "    <tr>\n",
       "      <th>0</th>\n",
       "      <td>CCC1(c2ccccc2)C(=O)NC(=O)NC1=O</td>\n",
       "      <td>InChI=1S/C12H12N2O3/c1-2-12(8-6-4-3-5-7-8)9(15...</td>\n",
       "      <td>174.0</td>\n",
       "    </tr>\n",
       "    <tr>\n",
       "      <th>1</th>\n",
       "      <td>CC(C)[C@@H](C)/C=C/[C@@H](C)[C@H]1CC[C@H]2/C(/...</td>\n",
       "      <td>InChI=1S/C28H44O/c1-19(2)20(3)9-10-22(5)26-15-...</td>\n",
       "      <td>116.5</td>\n",
       "    </tr>\n",
       "    <tr>\n",
       "      <th>2</th>\n",
       "      <td>C[C@]12CCC(=O)C=C1CC[C@@H]1[C@@H]2[C@@H](O)C[C...</td>\n",
       "      <td>InChI=1S/C21H30O4/c1-20-8-7-13(23)9-12(20)3-4-...</td>\n",
       "      <td>181.0</td>\n",
       "    </tr>\n",
       "    <tr>\n",
       "      <th>3</th>\n",
       "      <td>ClC(Cl)(Cl)C(c1ccc(Cl)cc1)c1ccc(Cl)cc1</td>\n",
       "      <td>InChI=1S/C14H9Cl5/c15-11-5-1-9(2-6-11)13(14(17...</td>\n",
       "      <td>108.5</td>\n",
       "    </tr>\n",
       "    <tr>\n",
       "      <th>4</th>\n",
       "      <td>CCCCC1C(=O)N(c2ccccc2)N(c2ccccc2)C1=O</td>\n",
       "      <td>InChI=1S/C19H20N2O2/c1-2-3-14-17-18(22)20(15-1...</td>\n",
       "      <td>105.0</td>\n",
       "    </tr>\n",
       "  </tbody>\n",
       "</table>\n",
       "</div>"
      ],
      "text/plain": [
       "                                              SMILES  \\\n",
       "0                     CCC1(c2ccccc2)C(=O)NC(=O)NC1=O   \n",
       "1  CC(C)[C@@H](C)/C=C/[C@@H](C)[C@H]1CC[C@H]2/C(/...   \n",
       "2  C[C@]12CCC(=O)C=C1CC[C@@H]1[C@@H]2[C@@H](O)C[C...   \n",
       "3             ClC(Cl)(Cl)C(c1ccc(Cl)cc1)c1ccc(Cl)cc1   \n",
       "4              CCCCC1C(=O)N(c2ccccc2)N(c2ccccc2)C1=O   \n",
       "\n",
       "                                               InChI     mp  \n",
       "0  InChI=1S/C12H12N2O3/c1-2-12(8-6-4-3-5-7-8)9(15...  174.0  \n",
       "1  InChI=1S/C28H44O/c1-19(2)20(3)9-10-22(5)26-15-...  116.5  \n",
       "2  InChI=1S/C21H30O4/c1-20-8-7-13(23)9-12(20)3-4-...  181.0  \n",
       "3  InChI=1S/C14H9Cl5/c15-11-5-1-9(2-6-11)13(14(17...  108.5  \n",
       "4  InChI=1S/C19H20N2O2/c1-2-3-14-17-18(22)20(15-1...  105.0  "
      ]
     },
     "execution_count": 27,
     "metadata": {},
     "output_type": "execute_result"
    }
   ],
   "source": [
    "df3_1.head()"
   ]
  },
  {
   "cell_type": "code",
   "execution_count": 28,
   "metadata": {},
   "outputs": [
    {
     "data": {
      "text/plain": [
       "(2133, 3)"
      ]
     },
     "execution_count": 28,
     "metadata": {},
     "output_type": "execute_result"
    }
   ],
   "source": [
    "df3_1.shape"
   ]
  },
  {
   "cell_type": "code",
   "execution_count": 29,
   "metadata": {},
   "outputs": [],
   "source": [
    "df3 = pd.concat([df3_0, df3_1])"
   ]
  },
  {
   "cell_type": "code",
   "execution_count": 30,
   "metadata": {},
   "outputs": [
    {
     "data": {
      "text/plain": [
       "(8618, 3)"
      ]
     },
     "execution_count": 30,
     "metadata": {},
     "output_type": "execute_result"
    }
   ],
   "source": [
    "df3.shape"
   ]
  },
  {
   "cell_type": "code",
   "execution_count": 31,
   "metadata": {},
   "outputs": [
    {
     "data": {
      "text/plain": [
       "8618"
      ]
     },
     "execution_count": 31,
     "metadata": {},
     "output_type": "execute_result"
    }
   ],
   "source": [
    "len(set(df3['InChI']))"
   ]
  },
  {
   "cell_type": "code",
   "execution_count": 32,
   "metadata": {},
   "outputs": [],
   "source": [
    "df3['MW'] = df3['InChI'].apply(lambda x: getMW(x))\n",
    "df3['NumAtoms'] = df3['InChI'].apply(lambda x: getNum(x))"
   ]
  },
  {
   "cell_type": "code",
   "execution_count": 33,
   "metadata": {},
   "outputs": [
    {
     "data": {
      "text/html": [
       "<div>\n",
       "<style scoped>\n",
       "    .dataframe tbody tr th:only-of-type {\n",
       "        vertical-align: middle;\n",
       "    }\n",
       "\n",
       "    .dataframe tbody tr th {\n",
       "        vertical-align: top;\n",
       "    }\n",
       "\n",
       "    .dataframe thead th {\n",
       "        text-align: right;\n",
       "    }\n",
       "</style>\n",
       "<table border=\"1\" class=\"dataframe\">\n",
       "  <thead>\n",
       "    <tr style=\"text-align: right;\">\n",
       "      <th></th>\n",
       "      <th>mp</th>\n",
       "      <th>MW</th>\n",
       "      <th>NumAtoms</th>\n",
       "    </tr>\n",
       "  </thead>\n",
       "  <tbody>\n",
       "    <tr>\n",
       "      <th>count</th>\n",
       "      <td>8618.000000</td>\n",
       "      <td>8618.000000</td>\n",
       "      <td>8618.000000</td>\n",
       "    </tr>\n",
       "    <tr>\n",
       "      <th>mean</th>\n",
       "      <td>80.414677</td>\n",
       "      <td>218.998748</td>\n",
       "      <td>14.485495</td>\n",
       "    </tr>\n",
       "    <tr>\n",
       "      <th>std</th>\n",
       "      <td>99.054390</td>\n",
       "      <td>108.782703</td>\n",
       "      <td>7.330750</td>\n",
       "    </tr>\n",
       "    <tr>\n",
       "      <th>min</th>\n",
       "      <td>-196.000000</td>\n",
       "      <td>16.031300</td>\n",
       "      <td>1.000000</td>\n",
       "    </tr>\n",
       "    <tr>\n",
       "      <th>25%</th>\n",
       "      <td>16.000000</td>\n",
       "      <td>144.045067</td>\n",
       "      <td>9.000000</td>\n",
       "    </tr>\n",
       "    <tr>\n",
       "      <th>50%</th>\n",
       "      <td>80.000000</td>\n",
       "      <td>194.050281</td>\n",
       "      <td>13.000000</td>\n",
       "    </tr>\n",
       "    <tr>\n",
       "      <th>75%</th>\n",
       "      <td>151.500000</td>\n",
       "      <td>272.226049</td>\n",
       "      <td>18.000000</td>\n",
       "    </tr>\n",
       "    <tr>\n",
       "      <th>max</th>\n",
       "      <td>385.000000</td>\n",
       "      <td>1237.920161</td>\n",
       "      <td>85.000000</td>\n",
       "    </tr>\n",
       "  </tbody>\n",
       "</table>\n",
       "</div>"
      ],
      "text/plain": [
       "                mp           MW     NumAtoms\n",
       "count  8618.000000  8618.000000  8618.000000\n",
       "mean     80.414677   218.998748    14.485495\n",
       "std      99.054390   108.782703     7.330750\n",
       "min    -196.000000    16.031300     1.000000\n",
       "25%      16.000000   144.045067     9.000000\n",
       "50%      80.000000   194.050281    13.000000\n",
       "75%     151.500000   272.226049    18.000000\n",
       "max     385.000000  1237.920161    85.000000"
      ]
     },
     "execution_count": 33,
     "metadata": {},
     "output_type": "execute_result"
    }
   ],
   "source": [
    "df3.describe()"
   ]
  },
  {
   "cell_type": "code",
   "execution_count": 34,
   "metadata": {},
   "outputs": [
    {
     "name": "stdout",
     "output_type": "stream",
     "text": [
      "dict_keys(['N', 'Cl', 'C', 'O', 'F', 'Br', 'P', 'I', 'S', 'Na', 'B', 'Si', 'As', 'K', 'Se'])\n"
     ]
    }
   ],
   "source": [
    "print(getEleSpread(df3['InChI'].tolist()).keys())"
   ]
  },
  {
   "cell_type": "code",
   "execution_count": 36,
   "metadata": {},
   "outputs": [],
   "source": [
    "df3.to_csv('/scratch/dz1061/gcn/datasets/EXP_database/MeltingPoint/IntermediateDatasets/zang_all_processed.csv', index=False)\n",
    "\n"
   ]
  },
  {
   "cell_type": "code",
   "execution_count": 44,
   "metadata": {},
   "outputs": [],
   "source": [
    "df3['source'] = 'zang'"
   ]
  },
  {
   "cell_type": "markdown",
   "metadata": {},
   "source": [
    "## 4. ONES"
   ]
  },
  {
   "cell_type": "code",
   "execution_count": 35,
   "metadata": {},
   "outputs": [],
   "source": [
    "df4 = pd.read_csv('/scratch/dz1061/gcn/datasets/EXP_database/MeltingPoint/IntermediateDatasets/ons_processed.csv')\n"
   ]
  },
  {
   "cell_type": "code",
   "execution_count": 36,
   "metadata": {},
   "outputs": [
    {
     "data": {
      "text/html": [
       "<div>\n",
       "<style scoped>\n",
       "    .dataframe tbody tr th:only-of-type {\n",
       "        vertical-align: middle;\n",
       "    }\n",
       "\n",
       "    .dataframe tbody tr th {\n",
       "        vertical-align: top;\n",
       "    }\n",
       "\n",
       "    .dataframe thead th {\n",
       "        text-align: right;\n",
       "    }\n",
       "</style>\n",
       "<table border=\"1\" class=\"dataframe\">\n",
       "  <thead>\n",
       "    <tr style=\"text-align: right;\">\n",
       "      <th></th>\n",
       "      <th>SMILES</th>\n",
       "      <th>InChI</th>\n",
       "      <th>mp</th>\n",
       "    </tr>\n",
       "  </thead>\n",
       "  <tbody>\n",
       "    <tr>\n",
       "      <th>0</th>\n",
       "      <td>C1(CCC1)C</td>\n",
       "      <td>InChI=1S/C5H10/c1-5-3-2-4-5/h5H,2-4H2,1H3</td>\n",
       "      <td>-161.5050</td>\n",
       "    </tr>\n",
       "    <tr>\n",
       "      <th>1</th>\n",
       "      <td>CN(C)C</td>\n",
       "      <td>InChI=1S/C3H9N/c1-4(2)3/h1-3H3</td>\n",
       "      <td>-117.0400</td>\n",
       "    </tr>\n",
       "    <tr>\n",
       "      <th>2</th>\n",
       "      <td>ClC(Cl)(Cl)Cl</td>\n",
       "      <td>InChI=1S/CCl4/c2-1(3,4)5</td>\n",
       "      <td>-22.9875</td>\n",
       "    </tr>\n",
       "    <tr>\n",
       "      <th>3</th>\n",
       "      <td>C#C</td>\n",
       "      <td>InChI=1S/C2H2/c1-2/h1-2H</td>\n",
       "      <td>-80.7500</td>\n",
       "    </tr>\n",
       "    <tr>\n",
       "      <th>4</th>\n",
       "      <td>C(=C(Cl)Cl)(C(Cl)(Cl)Cl)Cl</td>\n",
       "      <td>InChI=1S/C3Cl6/c4-1(2(5)6)3(7,8)9</td>\n",
       "      <td>-72.9500</td>\n",
       "    </tr>\n",
       "  </tbody>\n",
       "</table>\n",
       "</div>"
      ],
      "text/plain": [
       "                       SMILES                                      InChI  \\\n",
       "0                   C1(CCC1)C  InChI=1S/C5H10/c1-5-3-2-4-5/h5H,2-4H2,1H3   \n",
       "1                      CN(C)C             InChI=1S/C3H9N/c1-4(2)3/h1-3H3   \n",
       "2               ClC(Cl)(Cl)Cl                   InChI=1S/CCl4/c2-1(3,4)5   \n",
       "3                         C#C                   InChI=1S/C2H2/c1-2/h1-2H   \n",
       "4  C(=C(Cl)Cl)(C(Cl)(Cl)Cl)Cl          InChI=1S/C3Cl6/c4-1(2(5)6)3(7,8)9   \n",
       "\n",
       "         mp  \n",
       "0 -161.5050  \n",
       "1 -117.0400  \n",
       "2  -22.9875  \n",
       "3  -80.7500  \n",
       "4  -72.9500  "
      ]
     },
     "execution_count": 36,
     "metadata": {},
     "output_type": "execute_result"
    }
   ],
   "source": [
    "df4.head()"
   ]
  },
  {
   "cell_type": "code",
   "execution_count": 37,
   "metadata": {},
   "outputs": [
    {
     "data": {
      "text/plain": [
       "(2701, 3)"
      ]
     },
     "execution_count": 37,
     "metadata": {},
     "output_type": "execute_result"
    }
   ],
   "source": [
    "df4.shape"
   ]
  },
  {
   "cell_type": "code",
   "execution_count": 38,
   "metadata": {},
   "outputs": [
    {
     "data": {
      "text/plain": [
       "2700"
      ]
     },
     "execution_count": 38,
     "metadata": {},
     "output_type": "execute_result"
    }
   ],
   "source": [
    "len(set(df4['InChI']))"
   ]
  },
  {
   "cell_type": "code",
   "execution_count": 39,
   "metadata": {},
   "outputs": [],
   "source": [
    "df4['MW'] = df4['InChI'].apply(lambda x: getMW(x))\n",
    "df4['NumAtoms'] = df4['InChI'].apply(lambda x: getNum(x))"
   ]
  },
  {
   "cell_type": "code",
   "execution_count": 40,
   "metadata": {},
   "outputs": [
    {
     "data": {
      "text/html": [
       "<div>\n",
       "<style scoped>\n",
       "    .dataframe tbody tr th:only-of-type {\n",
       "        vertical-align: middle;\n",
       "    }\n",
       "\n",
       "    .dataframe tbody tr th {\n",
       "        vertical-align: top;\n",
       "    }\n",
       "\n",
       "    .dataframe thead th {\n",
       "        text-align: right;\n",
       "    }\n",
       "</style>\n",
       "<table border=\"1\" class=\"dataframe\">\n",
       "  <thead>\n",
       "    <tr style=\"text-align: right;\">\n",
       "      <th></th>\n",
       "      <th>mp</th>\n",
       "      <th>MW</th>\n",
       "      <th>NumAtoms</th>\n",
       "    </tr>\n",
       "  </thead>\n",
       "  <tbody>\n",
       "    <tr>\n",
       "      <th>count</th>\n",
       "      <td>2701.000000</td>\n",
       "      <td>2701.000000</td>\n",
       "      <td>2701.000000</td>\n",
       "    </tr>\n",
       "    <tr>\n",
       "      <th>mean</th>\n",
       "      <td>60.144032</td>\n",
       "      <td>175.689381</td>\n",
       "      <td>11.539060</td>\n",
       "    </tr>\n",
       "    <tr>\n",
       "      <th>std</th>\n",
       "      <td>93.468972</td>\n",
       "      <td>75.526257</td>\n",
       "      <td>5.065904</td>\n",
       "    </tr>\n",
       "    <tr>\n",
       "      <th>min</th>\n",
       "      <td>-187.750000</td>\n",
       "      <td>16.031300</td>\n",
       "      <td>1.000000</td>\n",
       "    </tr>\n",
       "    <tr>\n",
       "      <th>25%</th>\n",
       "      <td>4.750000</td>\n",
       "      <td>128.156501</td>\n",
       "      <td>8.000000</td>\n",
       "    </tr>\n",
       "    <tr>\n",
       "      <th>50%</th>\n",
       "      <td>60.500000</td>\n",
       "      <td>164.083730</td>\n",
       "      <td>11.000000</td>\n",
       "    </tr>\n",
       "    <tr>\n",
       "      <th>75%</th>\n",
       "      <td>123.452500</td>\n",
       "      <td>208.113086</td>\n",
       "      <td>14.000000</td>\n",
       "    </tr>\n",
       "    <tr>\n",
       "      <th>max</th>\n",
       "      <td>437.650000</td>\n",
       "      <td>949.178286</td>\n",
       "      <td>57.000000</td>\n",
       "    </tr>\n",
       "  </tbody>\n",
       "</table>\n",
       "</div>"
      ],
      "text/plain": [
       "                mp           MW     NumAtoms\n",
       "count  2701.000000  2701.000000  2701.000000\n",
       "mean     60.144032   175.689381    11.539060\n",
       "std      93.468972    75.526257     5.065904\n",
       "min    -187.750000    16.031300     1.000000\n",
       "25%       4.750000   128.156501     8.000000\n",
       "50%      60.500000   164.083730    11.000000\n",
       "75%     123.452500   208.113086    14.000000\n",
       "max     437.650000   949.178286    57.000000"
      ]
     },
     "execution_count": 40,
     "metadata": {},
     "output_type": "execute_result"
    }
   ],
   "source": [
    "df4.describe()"
   ]
  },
  {
   "cell_type": "code",
   "execution_count": 41,
   "metadata": {},
   "outputs": [
    {
     "name": "stdout",
     "output_type": "stream",
     "text": [
      "dict_keys(['C', 'N', 'Cl', 'S', 'O', 'Br', 'F', 'I', 'B', 'P', 'Si'])\n"
     ]
    }
   ],
   "source": [
    "print(getEleSpread(df4['InChI'].tolist()).keys())"
   ]
  },
  {
   "cell_type": "code",
   "execution_count": 37,
   "metadata": {},
   "outputs": [],
   "source": [
    "df4.to_csv('/scratch/dz1061/gcn/datasets/EXP_database/MeltingPoint/IntermediateDatasets/ones_processed.csv', index=False)\n",
    "\n"
   ]
  },
  {
   "cell_type": "code",
   "execution_count": 45,
   "metadata": {},
   "outputs": [],
   "source": [
    "df4['source'] = 'ONES'"
   ]
  },
  {
   "cell_type": "markdown",
   "metadata": {},
   "source": [
    "## 5. Tetko dataset"
   ]
  },
  {
   "cell_type": "code",
   "execution_count": 42,
   "metadata": {},
   "outputs": [],
   "source": [
    "df5 = pd.read_csv('/scratch/dz1061/gcn/datasets/EXP_database/MeltingPoint/IntermediateDatasets/tetko_processed.csv')"
   ]
  },
  {
   "cell_type": "code",
   "execution_count": 43,
   "metadata": {},
   "outputs": [
    {
     "data": {
      "text/plain": [
       "(210751, 5)"
      ]
     },
     "execution_count": 43,
     "metadata": {},
     "output_type": "execute_result"
    }
   ],
   "source": [
    "df5.shape"
   ]
  },
  {
   "cell_type": "code",
   "execution_count": 44,
   "metadata": {},
   "outputs": [
    {
     "data": {
      "text/html": [
       "<div>\n",
       "<style scoped>\n",
       "    .dataframe tbody tr th:only-of-type {\n",
       "        vertical-align: middle;\n",
       "    }\n",
       "\n",
       "    .dataframe tbody tr th {\n",
       "        vertical-align: top;\n",
       "    }\n",
       "\n",
       "    .dataframe thead th {\n",
       "        text-align: right;\n",
       "    }\n",
       "</style>\n",
       "<table border=\"1\" class=\"dataframe\">\n",
       "  <thead>\n",
       "    <tr style=\"text-align: right;\">\n",
       "      <th></th>\n",
       "      <th>SMILES</th>\n",
       "      <th>InChI</th>\n",
       "      <th>mp</th>\n",
       "      <th>MW</th>\n",
       "      <th>NumAtoms</th>\n",
       "    </tr>\n",
       "  </thead>\n",
       "  <tbody>\n",
       "    <tr>\n",
       "      <th>0</th>\n",
       "      <td>C(CCC)C1=NC=CC2=C(C=CC=C12)[N+](=O)[O-]</td>\n",
       "      <td>InChI=1S/C13H14N2O2/c1-2-3-6-12-10-5-4-7-13(15...</td>\n",
       "      <td>69.25</td>\n",
       "      <td>230.105528</td>\n",
       "      <td>17</td>\n",
       "    </tr>\n",
       "    <tr>\n",
       "      <th>1</th>\n",
       "      <td>ClC=1N=CC2=CC=CC(=C2C1)N</td>\n",
       "      <td>InChI=1S/C9H7ClN2/c10-9-4-7-6(5-12-9)2-1-3-8(7...</td>\n",
       "      <td>176.50</td>\n",
       "      <td>178.029776</td>\n",
       "      <td>12</td>\n",
       "    </tr>\n",
       "    <tr>\n",
       "      <th>2</th>\n",
       "      <td>C(CCCCCCCCCCC)C=1C(C=CC(C1)=O)=S</td>\n",
       "      <td>InChI=1S/C18H28OS/c1-2-3-4-5-6-7-8-9-10-11-12-...</td>\n",
       "      <td>131.50</td>\n",
       "      <td>292.186087</td>\n",
       "      <td>20</td>\n",
       "    </tr>\n",
       "    <tr>\n",
       "      <th>3</th>\n",
       "      <td>[N+](=O)([O-])OC[C@@]12CC([C@@H]3[C@]4(C=CC(C=...</td>\n",
       "      <td>InChI=1S/C21H27NO6/c1-12(23)16-5-6-17-15-4-3-1...</td>\n",
       "      <td>163.00</td>\n",
       "      <td>389.183838</td>\n",
       "      <td>28</td>\n",
       "    </tr>\n",
       "    <tr>\n",
       "      <th>4</th>\n",
       "      <td>[N+](=O)([O-])OC[C@@]12CC[C@@H]3[C@]4(C=CC(C=C...</td>\n",
       "      <td>InChI=1S/C21H27NO5/c1-13(23)17-5-6-19-16-4-3-1...</td>\n",
       "      <td>149.25</td>\n",
       "      <td>373.188923</td>\n",
       "      <td>27</td>\n",
       "    </tr>\n",
       "  </tbody>\n",
       "</table>\n",
       "</div>"
      ],
      "text/plain": [
       "                                              SMILES  \\\n",
       "0            C(CCC)C1=NC=CC2=C(C=CC=C12)[N+](=O)[O-]   \n",
       "1                           ClC=1N=CC2=CC=CC(=C2C1)N   \n",
       "2                   C(CCCCCCCCCCC)C=1C(C=CC(C1)=O)=S   \n",
       "3  [N+](=O)([O-])OC[C@@]12CC([C@@H]3[C@]4(C=CC(C=...   \n",
       "4  [N+](=O)([O-])OC[C@@]12CC[C@@H]3[C@]4(C=CC(C=C...   \n",
       "\n",
       "                                               InChI      mp          MW  \\\n",
       "0  InChI=1S/C13H14N2O2/c1-2-3-6-12-10-5-4-7-13(15...   69.25  230.105528   \n",
       "1  InChI=1S/C9H7ClN2/c10-9-4-7-6(5-12-9)2-1-3-8(7...  176.50  178.029776   \n",
       "2  InChI=1S/C18H28OS/c1-2-3-4-5-6-7-8-9-10-11-12-...  131.50  292.186087   \n",
       "3  InChI=1S/C21H27NO6/c1-12(23)16-5-6-17-15-4-3-1...  163.00  389.183838   \n",
       "4  InChI=1S/C21H27NO5/c1-13(23)17-5-6-19-16-4-3-1...  149.25  373.188923   \n",
       "\n",
       "   NumAtoms  \n",
       "0        17  \n",
       "1        12  \n",
       "2        20  \n",
       "3        28  \n",
       "4        27  "
      ]
     },
     "execution_count": 44,
     "metadata": {},
     "output_type": "execute_result"
    }
   ],
   "source": [
    "df5.head()"
   ]
  },
  {
   "cell_type": "code",
   "execution_count": 45,
   "metadata": {},
   "outputs": [
    {
     "data": {
      "text/plain": [
       "210751"
      ]
     },
     "execution_count": 45,
     "metadata": {},
     "output_type": "execute_result"
    }
   ],
   "source": [
    "len(set(df5['InChI']))"
   ]
  },
  {
   "cell_type": "code",
   "execution_count": 46,
   "metadata": {},
   "outputs": [
    {
     "name": "stderr",
     "output_type": "stream",
     "text": [
      "RDKit WARNING: [21:18:52] WARNING: not removing hydrogen atom without neighbors\n",
      "RDKit WARNING: [21:19:00] WARNING:  Problems/mismatches: Mobile-H( Hydrogens: Locations or number; Mobile-H groups: Falsely present, Attachment points)\n",
      "RDKit WARNING: [21:20:03] WARNING: not removing hydrogen atom without neighbors\n",
      "RDKit WARNING: [21:20:25] WARNING: not removing hydrogen atom without neighbors\n",
      "RDKit WARNING: [21:20:34] WARNING:  Problems/mismatches: Mobile-H( Hydrogens: Locations or number; Mobile-H groups: Falsely present, Attachment points)\n",
      "RDKit WARNING: [21:21:36] WARNING: not removing hydrogen atom without neighbors\n"
     ]
    }
   ],
   "source": [
    "df5['MW'] = df5['InChI'].apply(lambda x: getMW(x))\n",
    "df5['NumAtoms'] = df5['InChI'].apply(lambda x: getNum(x))"
   ]
  },
  {
   "cell_type": "code",
   "execution_count": 47,
   "metadata": {},
   "outputs": [
    {
     "name": "stderr",
     "output_type": "stream",
     "text": [
      "RDKit WARNING: [21:25:25] WARNING: not removing hydrogen atom without neighbors\n",
      "RDKit WARNING: [21:25:37] WARNING:  Problems/mismatches: Mobile-H( Hydrogens: Locations or number; Mobile-H groups: Falsely present, Attachment points)\n",
      "RDKit WARNING: [21:27:02] WARNING: not removing hydrogen atom without neighbors\n"
     ]
    },
    {
     "name": "stdout",
     "output_type": "stream",
     "text": [
      "dict_keys(['N', 'O', 'C', 'Cl', 'S', 'F', 'Br', 'P', 'I', 'Si', 'H'])\n"
     ]
    }
   ],
   "source": [
    "print(getEleSpread(df5['InChI'].tolist()).keys())"
   ]
  },
  {
   "cell_type": "code",
   "execution_count": 62,
   "metadata": {},
   "outputs": [],
   "source": [
    "df5.to_csv('/scratch/dz1061/gcn/datasets/EXP_database/MeltingPoint/IntermediateDatasets/tetko_processed.csv', index=False)\n",
    "\n"
   ]
  },
  {
   "cell_type": "code",
   "execution_count": 60,
   "metadata": {},
   "outputs": [
    {
     "data": {
      "text/html": [
       "<div>\n",
       "<style scoped>\n",
       "    .dataframe tbody tr th:only-of-type {\n",
       "        vertical-align: middle;\n",
       "    }\n",
       "\n",
       "    .dataframe tbody tr th {\n",
       "        vertical-align: top;\n",
       "    }\n",
       "\n",
       "    .dataframe thead th {\n",
       "        text-align: right;\n",
       "    }\n",
       "</style>\n",
       "<table border=\"1\" class=\"dataframe\">\n",
       "  <thead>\n",
       "    <tr style=\"text-align: right;\">\n",
       "      <th></th>\n",
       "      <th>mp</th>\n",
       "      <th>MW</th>\n",
       "      <th>NumAtoms</th>\n",
       "    </tr>\n",
       "  </thead>\n",
       "  <tbody>\n",
       "    <tr>\n",
       "      <th>count</th>\n",
       "      <td>210751.000000</td>\n",
       "      <td>210751.000000</td>\n",
       "      <td>210751.000000</td>\n",
       "    </tr>\n",
       "    <tr>\n",
       "      <th>mean</th>\n",
       "      <td>152.667857</td>\n",
       "      <td>357.566737</td>\n",
       "      <td>24.904247</td>\n",
       "    </tr>\n",
       "    <tr>\n",
       "      <th>std</th>\n",
       "      <td>58.941494</td>\n",
       "      <td>110.641000</td>\n",
       "      <td>7.951850</td>\n",
       "    </tr>\n",
       "    <tr>\n",
       "      <th>min</th>\n",
       "      <td>-270.000000</td>\n",
       "      <td>118.041865</td>\n",
       "      <td>9.000000</td>\n",
       "    </tr>\n",
       "    <tr>\n",
       "      <th>25%</th>\n",
       "      <td>108.500000</td>\n",
       "      <td>277.943992</td>\n",
       "      <td>19.000000</td>\n",
       "    </tr>\n",
       "    <tr>\n",
       "      <th>50%</th>\n",
       "      <td>149.000000</td>\n",
       "      <td>347.094916</td>\n",
       "      <td>24.000000</td>\n",
       "    </tr>\n",
       "    <tr>\n",
       "      <th>75%</th>\n",
       "      <td>193.000000</td>\n",
       "      <td>424.299241</td>\n",
       "      <td>30.000000</td>\n",
       "    </tr>\n",
       "    <tr>\n",
       "      <th>max</th>\n",
       "      <td>457.000000</td>\n",
       "      <td>1848.023291</td>\n",
       "      <td>112.000000</td>\n",
       "    </tr>\n",
       "  </tbody>\n",
       "</table>\n",
       "</div>"
      ],
      "text/plain": [
       "                  mp             MW       NumAtoms\n",
       "count  210751.000000  210751.000000  210751.000000\n",
       "mean      152.667857     357.566737      24.904247\n",
       "std        58.941494     110.641000       7.951850\n",
       "min      -270.000000     118.041865       9.000000\n",
       "25%       108.500000     277.943992      19.000000\n",
       "50%       149.000000     347.094916      24.000000\n",
       "75%       193.000000     424.299241      30.000000\n",
       "max       457.000000    1848.023291     112.000000"
      ]
     },
     "execution_count": 60,
     "metadata": {},
     "output_type": "execute_result"
    }
   ],
   "source": [
    "df5.describe()"
   ]
  },
  {
   "cell_type": "code",
   "execution_count": 63,
   "metadata": {},
   "outputs": [],
   "source": [
    "df5['source'] = 'Tetko'"
   ]
  },
  {
   "cell_type": "markdown",
   "metadata": {},
   "source": [
    "# Combine all"
   ]
  },
  {
   "cell_type": "code",
   "execution_count": 48,
   "metadata": {},
   "outputs": [],
   "source": [
    "df_all = pd.concat([df1, df2, df3, df4, df5])"
   ]
  },
  {
   "cell_type": "code",
   "execution_count": 50,
   "metadata": {},
   "outputs": [
    {
     "data": {
      "text/plain": [
       "219739"
      ]
     },
     "execution_count": 50,
     "metadata": {},
     "output_type": "execute_result"
    }
   ],
   "source": [
    "len(set(df_all['InChI']))"
   ]
  },
  {
   "cell_type": "code",
   "execution_count": 49,
   "metadata": {},
   "outputs": [
    {
     "data": {
      "text/html": [
       "<div>\n",
       "<style scoped>\n",
       "    .dataframe tbody tr th:only-of-type {\n",
       "        vertical-align: middle;\n",
       "    }\n",
       "\n",
       "    .dataframe tbody tr th {\n",
       "        vertical-align: top;\n",
       "    }\n",
       "\n",
       "    .dataframe thead th {\n",
       "        text-align: right;\n",
       "    }\n",
       "</style>\n",
       "<table border=\"1\" class=\"dataframe\">\n",
       "  <thead>\n",
       "    <tr style=\"text-align: right;\">\n",
       "      <th></th>\n",
       "      <th>SMILES</th>\n",
       "      <th>InChI</th>\n",
       "      <th>mp</th>\n",
       "      <th>MW</th>\n",
       "      <th>NumAtoms</th>\n",
       "      <th>source</th>\n",
       "    </tr>\n",
       "  </thead>\n",
       "  <tbody>\n",
       "    <tr>\n",
       "      <th>0</th>\n",
       "      <td>Cl.NC(N)=N</td>\n",
       "      <td>InChI=1S/CH5N3.ClH/c2-1(3)4;/h(H5,2,3,4);1H</td>\n",
       "      <td>182.3</td>\n",
       "      <td>95.025025</td>\n",
       "      <td>5</td>\n",
       "      <td>PhysProp</td>\n",
       "    </tr>\n",
       "    <tr>\n",
       "      <th>1</th>\n",
       "      <td>C[C@@H]1C[C@H]2[C@@H]3CCC4=CC(=O)C=C[C@]4(C)[C...</td>\n",
       "      <td>InChI=1S/C22H29FO5/c1-12-8-16-15-5-4-13-9-14(2...</td>\n",
       "      <td>247.5</td>\n",
       "      <td>392.199902</td>\n",
       "      <td>28</td>\n",
       "      <td>PhysProp</td>\n",
       "    </tr>\n",
       "    <tr>\n",
       "      <th>2</th>\n",
       "      <td>CC(=O)OCC(=O)[C@@]1(O)CC[C@H]2[C@@H]3CCC4=CC(=...</td>\n",
       "      <td>InChI=1S/C23H30O6/c1-13(24)29-12-19(27)23(28)9...</td>\n",
       "      <td>222.0</td>\n",
       "      <td>402.204239</td>\n",
       "      <td>29</td>\n",
       "      <td>PhysProp</td>\n",
       "    </tr>\n",
       "    <tr>\n",
       "      <th>3</th>\n",
       "      <td>CCC1(c2ccccc2)C(=O)NC(=O)NC1=O</td>\n",
       "      <td>InChI=1S/C12H12N2O3/c1-2-12(8-6-4-3-5-7-8)9(15...</td>\n",
       "      <td>174.0</td>\n",
       "      <td>232.084792</td>\n",
       "      <td>17</td>\n",
       "      <td>PhysProp</td>\n",
       "    </tr>\n",
       "    <tr>\n",
       "      <th>4</th>\n",
       "      <td>[Br-].C[N+](CCOC(=O)C(O)(C1CCCCC1)c1ccccc1)(CC)CC</td>\n",
       "      <td>InChI=1S/C21H34NO3.BrH/c1-4-22(3,5-2)16-17-25-...</td>\n",
       "      <td>191.5</td>\n",
       "      <td>427.172206</td>\n",
       "      <td>26</td>\n",
       "      <td>PhysProp</td>\n",
       "    </tr>\n",
       "  </tbody>\n",
       "</table>\n",
       "</div>"
      ],
      "text/plain": [
       "                                              SMILES  \\\n",
       "0                                         Cl.NC(N)=N   \n",
       "1  C[C@@H]1C[C@H]2[C@@H]3CCC4=CC(=O)C=C[C@]4(C)[C...   \n",
       "2  CC(=O)OCC(=O)[C@@]1(O)CC[C@H]2[C@@H]3CCC4=CC(=...   \n",
       "3                     CCC1(c2ccccc2)C(=O)NC(=O)NC1=O   \n",
       "4  [Br-].C[N+](CCOC(=O)C(O)(C1CCCCC1)c1ccccc1)(CC)CC   \n",
       "\n",
       "                                               InChI     mp          MW  \\\n",
       "0        InChI=1S/CH5N3.ClH/c2-1(3)4;/h(H5,2,3,4);1H  182.3   95.025025   \n",
       "1  InChI=1S/C22H29FO5/c1-12-8-16-15-5-4-13-9-14(2...  247.5  392.199902   \n",
       "2  InChI=1S/C23H30O6/c1-13(24)29-12-19(27)23(28)9...  222.0  402.204239   \n",
       "3  InChI=1S/C12H12N2O3/c1-2-12(8-6-4-3-5-7-8)9(15...  174.0  232.084792   \n",
       "4  InChI=1S/C21H34NO3.BrH/c1-4-22(3,5-2)16-17-25-...  191.5  427.172206   \n",
       "\n",
       "   NumAtoms    source  \n",
       "0         5  PhysProp  \n",
       "1        28  PhysProp  \n",
       "2        29  PhysProp  \n",
       "3        17  PhysProp  \n",
       "4        26  PhysProp  "
      ]
     },
     "execution_count": 49,
     "metadata": {},
     "output_type": "execute_result"
    }
   ],
   "source": [
    "df_all.head()"
   ]
  },
  {
   "cell_type": "code",
   "execution_count": 66,
   "metadata": {},
   "outputs": [],
   "source": [
    "df_all.to_csv('/scratch/dz1061/gcn/datasets/EXP_database/MeltingPoint/IntermediateDatasets/mp_combine_all.csv', index=False)\n",
    "\n"
   ]
  },
  {
   "cell_type": "code",
   "execution_count": 67,
   "metadata": {},
   "outputs": [],
   "source": [
    "count = df_all[['source', 'mp']].groupby('source').count().sort_values(by=['mp'], ascending=False)"
   ]
  },
  {
   "cell_type": "code",
   "execution_count": 68,
   "metadata": {},
   "outputs": [
    {
     "data": {
      "text/html": [
       "<div>\n",
       "<style scoped>\n",
       "    .dataframe tbody tr th:only-of-type {\n",
       "        vertical-align: middle;\n",
       "    }\n",
       "\n",
       "    .dataframe tbody tr th {\n",
       "        vertical-align: top;\n",
       "    }\n",
       "\n",
       "    .dataframe thead th {\n",
       "        text-align: right;\n",
       "    }\n",
       "</style>\n",
       "<table border=\"1\" class=\"dataframe\">\n",
       "  <thead>\n",
       "    <tr style=\"text-align: right;\">\n",
       "      <th></th>\n",
       "      <th>mp</th>\n",
       "    </tr>\n",
       "    <tr>\n",
       "      <th>source</th>\n",
       "      <th></th>\n",
       "    </tr>\n",
       "  </thead>\n",
       "  <tbody>\n",
       "    <tr>\n",
       "      <th>Tetko</th>\n",
       "      <td>210751</td>\n",
       "    </tr>\n",
       "    <tr>\n",
       "      <th>PhysProp</th>\n",
       "      <td>8656</td>\n",
       "    </tr>\n",
       "    <tr>\n",
       "      <th>zang</th>\n",
       "      <td>8618</td>\n",
       "    </tr>\n",
       "    <tr>\n",
       "      <th>Bradley</th>\n",
       "      <td>3025</td>\n",
       "    </tr>\n",
       "    <tr>\n",
       "      <th>ONES</th>\n",
       "      <td>2701</td>\n",
       "    </tr>\n",
       "  </tbody>\n",
       "</table>\n",
       "</div>"
      ],
      "text/plain": [
       "              mp\n",
       "source          \n",
       "Tetko     210751\n",
       "PhysProp    8656\n",
       "zang        8618\n",
       "Bradley     3025\n",
       "ONES        2701"
      ]
     },
     "execution_count": 68,
     "metadata": {},
     "output_type": "execute_result"
    }
   ],
   "source": [
    "count"
   ]
  },
  {
   "cell_type": "code",
   "execution_count": 69,
   "metadata": {},
   "outputs": [],
   "source": [
    "sources = []\n",
    "stds = []\n",
    "means = []\n",
    "inchis = []\n",
    "for inchi in set(df_all['InChI']):\n",
    "    select = df_all[df_all['InChI'] == inchi]\n",
    "    #break\n",
    "    inchis.append(inchi)\n",
    "    means.append(select['mp'].mean())\n",
    "    stds.append(select['mp'].std())\n",
    "    sources.append(list(set(select['source'])))\n",
    "    #break"
   ]
  },
  {
   "cell_type": "code",
   "execution_count": 70,
   "metadata": {},
   "outputs": [],
   "source": [
    "df_all_use = pd.DataFrame({'InChI': inchis, \n",
    "                           'MP': means,\n",
    "                           'std': stds, \n",
    "                           'sources': sources})"
   ]
  },
  {
   "cell_type": "code",
   "execution_count": 71,
   "metadata": {},
   "outputs": [],
   "source": [
    "df_all_use.fillna(0, inplace=True)"
   ]
  },
  {
   "cell_type": "code",
   "execution_count": 72,
   "metadata": {},
   "outputs": [],
   "source": [
    "from rdkit.Chem.rdMolDescriptors import CalcMolFormula\n",
    "\n",
    "from collections import Counter"
   ]
  },
  {
   "cell_type": "code",
   "execution_count": 73,
   "metadata": {},
   "outputs": [
    {
     "name": "stderr",
     "output_type": "stream",
     "text": [
      "RDKit WARNING: [22:29:30] WARNING: not removing hydrogen atom without neighbors\n",
      "RDKit WARNING: [22:30:12] WARNING:  Problems/mismatches: Mobile-H( Hydrogens: Locations or number; Mobile-H groups: Falsely present, Attachment points)\n",
      "RDKit WARNING: [22:30:12] WARNING: not removing hydrogen atom without neighbors\n"
     ]
    }
   ],
   "source": [
    "df_all_use['Mol'] = [Chem.MolFromInchi(i) for i in df_all_use['InChI']]"
   ]
  },
  {
   "cell_type": "code",
   "execution_count": 74,
   "metadata": {},
   "outputs": [],
   "source": [
    "df_all_use['element_'] = df_all_use['Mol'].apply(lambda x: list(Counter(atom.GetSymbol() for atom in x.GetAtoms()).keys()))"
   ]
  },
  {
   "cell_type": "code",
   "execution_count": 75,
   "metadata": {},
   "outputs": [],
   "source": [
    "ALLOWABLE_ATOM_SYMBOLS = ['H', 'C', 'N', 'O', 'S', 'F', 'I', 'P', 'Cl', 'Br']\n",
    "\n",
    "df_all_use['filter'] = df_all_use['element_'].apply(lambda x: True if set(x) < set(ALLOWABLE_ATOM_SYMBOLS) else False)\n",
    "\n",
    "df_all_use1 = df_all_use[df_all_use['filter']].reset_index(drop=True)"
   ]
  },
  {
   "cell_type": "code",
   "execution_count": 76,
   "metadata": {},
   "outputs": [
    {
     "data": {
      "text/plain": [
       "(218626, 7)"
      ]
     },
     "execution_count": 76,
     "metadata": {},
     "output_type": "execute_result"
    }
   ],
   "source": [
    "df_all_use1.shape"
   ]
  },
  {
   "cell_type": "code",
   "execution_count": 77,
   "metadata": {},
   "outputs": [],
   "source": [
    "df_all_use1[['InChI', 'logS', 'std', 'sources']].to_csv('/scratch/dz1061/gcn/datasets/EXP_database/MeltingPoint/IntermediateDatasets/mp_combine_all_use.csv', index=False)\n"
   ]
  }
 ],
 "metadata": {
  "kernelspec": {
   "display_name": "Python 3",
   "language": "python",
   "name": "python3"
  },
  "language_info": {
   "codemirror_mode": {
    "name": "ipython",
    "version": 3
   },
   "file_extension": ".py",
   "mimetype": "text/x-python",
   "name": "python",
   "nbconvert_exporter": "python",
   "pygments_lexer": "ipython3",
   "version": "3.8.5"
  }
 },
 "nbformat": 4,
 "nbformat_minor": 4
}

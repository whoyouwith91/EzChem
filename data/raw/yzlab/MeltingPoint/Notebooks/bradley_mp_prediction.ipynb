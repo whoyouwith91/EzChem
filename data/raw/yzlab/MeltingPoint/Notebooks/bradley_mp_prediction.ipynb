{
 "cells": [
  {
   "cell_type": "code",
   "execution_count": 1,
   "metadata": {},
   "outputs": [
    {
     "name": "stderr",
     "output_type": "stream",
     "text": [
      "<frozen importlib._bootstrap>:219: RuntimeWarning: numpy.ufunc size changed, may indicate binary incompatibility. Expected 192 from C header, got 216 from PyObject\n"
     ]
    }
   ],
   "source": [
    "import pickle \n",
    "import pandas as pd\n",
    "from rdkit import Chem\n",
    "from rdkit.Chem.rdmolfiles import SDMolSupplier"
   ]
  },
  {
   "cell_type": "code",
   "execution_count": 62,
   "metadata": {},
   "outputs": [],
   "source": [
    "from collections import defaultdict\n",
    "from rdkit import Chem\n",
    "from rdkit.Chem.rdmolfiles import SDMolSupplier\n",
    "\n",
    "def getEleSpread(smiList):\n",
    "    element_mol = defaultdict(list)\n",
    "    element = set()\n",
    "    for smi in smiList:\n",
    "        #mol = smi\n",
    "        mol = Chem.MolFromSmiles(smi)\n",
    "        if mol:\n",
    "            for c in set([atom.GetSymbol() for atom in mol.GetAtoms()]):\n",
    "                #if c not in element_mol:\n",
    "                    element_mol[c].append(smi)\n",
    "                #element.add(c)\n",
    "            #break\n",
    "    return {i:len(item) for i, item in element_mol.items()}"
   ]
  },
  {
   "cell_type": "code",
   "execution_count": 24,
   "metadata": {},
   "outputs": [],
   "source": [
    "from rdkit.Chem.rdmolops import GetFormalCharge\n",
    "\n",
    "def getCharge(inchi):\n",
    "    mol = Chem.MolFromInchi(inchi)\n",
    "    return GetFormalCharge(mol)"
   ]
  },
  {
   "cell_type": "code",
   "execution_count": 29,
   "metadata": {},
   "outputs": [],
   "source": [
    "from rdkit import Chem\n",
    "\n",
    "def getinchi(x):\n",
    "    try:\n",
    "        mol = Chem.MolFromSmiles(x)\n",
    "        return Chem.MolToInchi(mol)\n",
    "    except:\n",
    "        return None"
   ]
  },
  {
   "cell_type": "code",
   "execution_count": 2,
   "metadata": {},
   "outputs": [],
   "source": [
    "train = pd.read_csv('/scratch/dz1061/gcn/chemGraph/data/mp/bradley/split/train.csv')\n",
    "valid = pd.read_csv('/scratch/dz1061/gcn/chemGraph/data/mp/bradley/split/valid.csv')\n",
    "test = pd.read_csv('/scratch/dz1061/gcn/chemGraph/data/mp/bradley/split/test.csv')\n"
   ]
  },
  {
   "cell_type": "code",
   "execution_count": 3,
   "metadata": {},
   "outputs": [
    {
     "data": {
      "text/plain": [
       "((2430, 211), (270, 211), (301, 211))"
      ]
     },
     "execution_count": 3,
     "metadata": {},
     "output_type": "execute_result"
    }
   ],
   "source": [
    "train.shape, valid.shape, test.shape"
   ]
  },
  {
   "cell_type": "code",
   "execution_count": 4,
   "metadata": {},
   "outputs": [
    {
     "data": {
      "text/html": [
       "<div>\n",
       "<style scoped>\n",
       "    .dataframe tbody tr th:only-of-type {\n",
       "        vertical-align: middle;\n",
       "    }\n",
       "\n",
       "    .dataframe tbody tr th {\n",
       "        vertical-align: top;\n",
       "    }\n",
       "\n",
       "    .dataframe thead th {\n",
       "        text-align: right;\n",
       "    }\n",
       "</style>\n",
       "<table border=\"1\" class=\"dataframe\">\n",
       "  <thead>\n",
       "    <tr style=\"text-align: right;\">\n",
       "      <th></th>\n",
       "      <th>InChI</th>\n",
       "      <th>SMILES</th>\n",
       "      <th>target</th>\n",
       "      <th>MaxEStateIndex</th>\n",
       "      <th>MinEStateIndex</th>\n",
       "      <th>MaxAbsEStateIndex</th>\n",
       "      <th>MinAbsEStateIndex</th>\n",
       "      <th>qed</th>\n",
       "      <th>MolWt</th>\n",
       "      <th>HeavyAtomMolWt</th>\n",
       "      <th>...</th>\n",
       "      <th>fr_sulfide</th>\n",
       "      <th>fr_sulfonamd</th>\n",
       "      <th>fr_sulfone</th>\n",
       "      <th>fr_term_acetylene</th>\n",
       "      <th>fr_tetrazole</th>\n",
       "      <th>fr_thiazole</th>\n",
       "      <th>fr_thiocyan</th>\n",
       "      <th>fr_thiophene</th>\n",
       "      <th>fr_unbrch_alkane</th>\n",
       "      <th>fr_urea</th>\n",
       "    </tr>\n",
       "  </thead>\n",
       "  <tbody>\n",
       "    <tr>\n",
       "      <th>0</th>\n",
       "      <td>InChI=1S/C7H4Cl2O3/c8-3-1-4(7(11)12)6(10)5(9)2...</td>\n",
       "      <td>c1c(cc(c(c1C(=O)O)O)Cl)Cl</td>\n",
       "      <td>224.0</td>\n",
       "      <td>10.448920</td>\n",
       "      <td>-1.266759</td>\n",
       "      <td>10.448920</td>\n",
       "      <td>0.069537</td>\n",
       "      <td>0.742606</td>\n",
       "      <td>207.012</td>\n",
       "      <td>202.980</td>\n",
       "      <td>...</td>\n",
       "      <td>0</td>\n",
       "      <td>0</td>\n",
       "      <td>0</td>\n",
       "      <td>0</td>\n",
       "      <td>0</td>\n",
       "      <td>0</td>\n",
       "      <td>0</td>\n",
       "      <td>0</td>\n",
       "      <td>0</td>\n",
       "      <td>0</td>\n",
       "    </tr>\n",
       "    <tr>\n",
       "      <th>1</th>\n",
       "      <td>InChI=1S/C8H4N2O2/c11-5-9-7-1-2-8(4-3-7)10-6-1...</td>\n",
       "      <td>O=C=Nc1ccc(cc1)N=C=O</td>\n",
       "      <td>94.0</td>\n",
       "      <td>9.807455</td>\n",
       "      <td>0.481342</td>\n",
       "      <td>9.807455</td>\n",
       "      <td>0.481342</td>\n",
       "      <td>0.487130</td>\n",
       "      <td>160.132</td>\n",
       "      <td>156.100</td>\n",
       "      <td>...</td>\n",
       "      <td>0</td>\n",
       "      <td>0</td>\n",
       "      <td>0</td>\n",
       "      <td>0</td>\n",
       "      <td>0</td>\n",
       "      <td>0</td>\n",
       "      <td>0</td>\n",
       "      <td>0</td>\n",
       "      <td>0</td>\n",
       "      <td>0</td>\n",
       "    </tr>\n",
       "    <tr>\n",
       "      <th>2</th>\n",
       "      <td>InChI=1S/C9H12/c1-3-9-6-4-8(2)5-7-9/h4-7H,3H2,...</td>\n",
       "      <td>CCc1ccc(cc1)C</td>\n",
       "      <td>-62.0</td>\n",
       "      <td>2.175926</td>\n",
       "      <td>1.139167</td>\n",
       "      <td>2.175926</td>\n",
       "      <td>1.139167</td>\n",
       "      <td>0.533979</td>\n",
       "      <td>120.195</td>\n",
       "      <td>108.099</td>\n",
       "      <td>...</td>\n",
       "      <td>0</td>\n",
       "      <td>0</td>\n",
       "      <td>0</td>\n",
       "      <td>0</td>\n",
       "      <td>0</td>\n",
       "      <td>0</td>\n",
       "      <td>0</td>\n",
       "      <td>0</td>\n",
       "      <td>0</td>\n",
       "      <td>0</td>\n",
       "    </tr>\n",
       "    <tr>\n",
       "      <th>3</th>\n",
       "      <td>InChI=1S/CH4N2O/c2-3-1-4/h1H,2H2,(H,3,4)</td>\n",
       "      <td>C(=O)NN</td>\n",
       "      <td>57.0</td>\n",
       "      <td>7.458333</td>\n",
       "      <td>0.527778</td>\n",
       "      <td>7.458333</td>\n",
       "      <td>0.527778</td>\n",
       "      <td>0.170361</td>\n",
       "      <td>60.056</td>\n",
       "      <td>56.024</td>\n",
       "      <td>...</td>\n",
       "      <td>0</td>\n",
       "      <td>0</td>\n",
       "      <td>0</td>\n",
       "      <td>0</td>\n",
       "      <td>0</td>\n",
       "      <td>0</td>\n",
       "      <td>0</td>\n",
       "      <td>0</td>\n",
       "      <td>0</td>\n",
       "      <td>0</td>\n",
       "    </tr>\n",
       "    <tr>\n",
       "      <th>4</th>\n",
       "      <td>InChI=1S/C14H9Cl5/c15-10-7-5-9(6-8-10)13(14(17...</td>\n",
       "      <td>C1=CC=C(C(=C1)C(C2=CC=C(C=C2)Cl)C(Cl)(Cl)Cl)Cl</td>\n",
       "      <td>75.0</td>\n",
       "      <td>6.204208</td>\n",
       "      <td>-1.501168</td>\n",
       "      <td>6.204208</td>\n",
       "      <td>0.455123</td>\n",
       "      <td>0.540334</td>\n",
       "      <td>354.491</td>\n",
       "      <td>345.419</td>\n",
       "      <td>...</td>\n",
       "      <td>0</td>\n",
       "      <td>0</td>\n",
       "      <td>0</td>\n",
       "      <td>0</td>\n",
       "      <td>0</td>\n",
       "      <td>0</td>\n",
       "      <td>0</td>\n",
       "      <td>0</td>\n",
       "      <td>0</td>\n",
       "      <td>0</td>\n",
       "    </tr>\n",
       "  </tbody>\n",
       "</table>\n",
       "<p>5 rows × 211 columns</p>\n",
       "</div>"
      ],
      "text/plain": [
       "                                               InChI  \\\n",
       "0  InChI=1S/C7H4Cl2O3/c8-3-1-4(7(11)12)6(10)5(9)2...   \n",
       "1  InChI=1S/C8H4N2O2/c11-5-9-7-1-2-8(4-3-7)10-6-1...   \n",
       "2  InChI=1S/C9H12/c1-3-9-6-4-8(2)5-7-9/h4-7H,3H2,...   \n",
       "3           InChI=1S/CH4N2O/c2-3-1-4/h1H,2H2,(H,3,4)   \n",
       "4  InChI=1S/C14H9Cl5/c15-10-7-5-9(6-8-10)13(14(17...   \n",
       "\n",
       "                                           SMILES  target  MaxEStateIndex  \\\n",
       "0                       c1c(cc(c(c1C(=O)O)O)Cl)Cl   224.0       10.448920   \n",
       "1                            O=C=Nc1ccc(cc1)N=C=O    94.0        9.807455   \n",
       "2                                   CCc1ccc(cc1)C   -62.0        2.175926   \n",
       "3                                         C(=O)NN    57.0        7.458333   \n",
       "4  C1=CC=C(C(=C1)C(C2=CC=C(C=C2)Cl)C(Cl)(Cl)Cl)Cl    75.0        6.204208   \n",
       "\n",
       "   MinEStateIndex  MaxAbsEStateIndex  MinAbsEStateIndex       qed    MolWt  \\\n",
       "0       -1.266759          10.448920           0.069537  0.742606  207.012   \n",
       "1        0.481342           9.807455           0.481342  0.487130  160.132   \n",
       "2        1.139167           2.175926           1.139167  0.533979  120.195   \n",
       "3        0.527778           7.458333           0.527778  0.170361   60.056   \n",
       "4       -1.501168           6.204208           0.455123  0.540334  354.491   \n",
       "\n",
       "   HeavyAtomMolWt  ...  fr_sulfide  fr_sulfonamd  fr_sulfone  \\\n",
       "0         202.980  ...           0             0           0   \n",
       "1         156.100  ...           0             0           0   \n",
       "2         108.099  ...           0             0           0   \n",
       "3          56.024  ...           0             0           0   \n",
       "4         345.419  ...           0             0           0   \n",
       "\n",
       "   fr_term_acetylene  fr_tetrazole  fr_thiazole  fr_thiocyan  fr_thiophene  \\\n",
       "0                  0             0            0            0             0   \n",
       "1                  0             0            0            0             0   \n",
       "2                  0             0            0            0             0   \n",
       "3                  0             0            0            0             0   \n",
       "4                  0             0            0            0             0   \n",
       "\n",
       "   fr_unbrch_alkane  fr_urea  \n",
       "0                 0        0  \n",
       "1                 0        0  \n",
       "2                 0        0  \n",
       "3                 0        0  \n",
       "4                 0        0  \n",
       "\n",
       "[5 rows x 211 columns]"
      ]
     },
     "execution_count": 4,
     "metadata": {},
     "output_type": "execute_result"
    }
   ],
   "source": [
    "train.head()"
   ]
  },
  {
   "cell_type": "code",
   "execution_count": 5,
   "metadata": {},
   "outputs": [],
   "source": [
    "all_ = pd.concat([train, valid, test])"
   ]
  },
  {
   "cell_type": "code",
   "execution_count": 6,
   "metadata": {},
   "outputs": [
    {
     "data": {
      "text/plain": [
       "(3001, 211)"
      ]
     },
     "execution_count": 6,
     "metadata": {},
     "output_type": "execute_result"
    }
   ],
   "source": [
    "all_.shape"
   ]
  },
  {
   "cell_type": "code",
   "execution_count": 26,
   "metadata": {},
   "outputs": [],
   "source": [
    "train_old = pd.read_csv('/scratch/dz1061/gcn/chemGraph/data/mp/bradley/split/old/train.csv', names=['SMILES', 'target'])\n",
    "valid_old = pd.read_csv('/scratch/dz1061/gcn/chemGraph/data/mp/bradley/split/old/valid.csv', names=['SMILES', 'target'])\n",
    "test_old = pd.read_csv('/scratch/dz1061/gcn/chemGraph/data/mp/bradley/split/old/test.csv', names=['SMILES', 'target'])\n"
   ]
  },
  {
   "cell_type": "code",
   "execution_count": 27,
   "metadata": {},
   "outputs": [
    {
     "data": {
      "text/plain": [
       "((2462, 2), (274, 2), (305, 2))"
      ]
     },
     "execution_count": 27,
     "metadata": {},
     "output_type": "execute_result"
    }
   ],
   "source": [
    "train_old.shape, valid_old.shape, test_old.shape"
   ]
  },
  {
   "cell_type": "code",
   "execution_count": null,
   "metadata": {},
   "outputs": [],
   "source": []
  },
  {
   "cell_type": "code",
   "execution_count": 30,
   "metadata": {},
   "outputs": [],
   "source": [
    "train_old['InChI'] = train_old['SMILES'].apply(lambda x: getinchi(x))\n",
    "valid_old['InChI'] = valid_old['SMILES'].apply(lambda x: getinchi(x))\n",
    "test_old['InChI'] = test_old['SMILES'].apply(lambda x: getinchi(x))\n"
   ]
  },
  {
   "cell_type": "code",
   "execution_count": 35,
   "metadata": {},
   "outputs": [
    {
     "data": {
      "text/plain": [
       "(14, 3)"
      ]
     },
     "execution_count": 35,
     "metadata": {},
     "output_type": "execute_result"
    }
   ],
   "source": [
    "train_old[pd.isnull(train_old['InChI'])].shape"
   ]
  },
  {
   "cell_type": "code",
   "execution_count": 36,
   "metadata": {},
   "outputs": [
    {
     "data": {
      "text/plain": [
       "(1, 3)"
      ]
     },
     "execution_count": 36,
     "metadata": {},
     "output_type": "execute_result"
    }
   ],
   "source": [
    "valid_old[pd.isnull(valid_old['InChI'])].shape"
   ]
  },
  {
   "cell_type": "code",
   "execution_count": 37,
   "metadata": {},
   "outputs": [
    {
     "data": {
      "text/plain": [
       "(1, 3)"
      ]
     },
     "execution_count": 37,
     "metadata": {},
     "output_type": "execute_result"
    }
   ],
   "source": [
    "test_old[pd.isnull(test_old['InChI'])].shape"
   ]
  },
  {
   "cell_type": "code",
   "execution_count": null,
   "metadata": {},
   "outputs": [],
   "source": []
  },
  {
   "cell_type": "code",
   "execution_count": 31,
   "metadata": {},
   "outputs": [
    {
     "data": {
      "text/html": [
       "<div>\n",
       "<style scoped>\n",
       "    .dataframe tbody tr th:only-of-type {\n",
       "        vertical-align: middle;\n",
       "    }\n",
       "\n",
       "    .dataframe tbody tr th {\n",
       "        vertical-align: top;\n",
       "    }\n",
       "\n",
       "    .dataframe thead th {\n",
       "        text-align: right;\n",
       "    }\n",
       "</style>\n",
       "<table border=\"1\" class=\"dataframe\">\n",
       "  <thead>\n",
       "    <tr style=\"text-align: right;\">\n",
       "      <th></th>\n",
       "      <th>SMILES</th>\n",
       "      <th>target</th>\n",
       "      <th>InChI</th>\n",
       "    </tr>\n",
       "  </thead>\n",
       "  <tbody>\n",
       "    <tr>\n",
       "      <th>0</th>\n",
       "      <td>Cc1cc(ccc1N)c2ccc(c(c2)C)N</td>\n",
       "      <td>130.0</td>\n",
       "      <td>InChI=1S/C14H16N2/c1-9-7-11(3-5-13(9)15)12-4-6...</td>\n",
       "    </tr>\n",
       "    <tr>\n",
       "      <th>1</th>\n",
       "      <td>Cc1cc(O)ccc1</td>\n",
       "      <td>11.0</td>\n",
       "      <td>InChI=1S/C7H8O/c1-6-3-2-4-7(8)5-6/h2-5,8H,1H3</td>\n",
       "    </tr>\n",
       "    <tr>\n",
       "      <th>2</th>\n",
       "      <td>COc1ccc(cc1C(=O)NCCc2ccc(cc2)S(=O)(=O)NC(=O)NC...</td>\n",
       "      <td>173.0</td>\n",
       "      <td>InChI=1S/C23H28ClN3O5S/c1-32-21-12-9-17(24)15-...</td>\n",
       "    </tr>\n",
       "    <tr>\n",
       "      <th>3</th>\n",
       "      <td>COC1=CC=CC(=C1)C(=O)O</td>\n",
       "      <td>106.0</td>\n",
       "      <td>InChI=1S/C8H8O3/c1-11-7-4-2-3-6(5-7)8(9)10/h2-...</td>\n",
       "    </tr>\n",
       "    <tr>\n",
       "      <th>4</th>\n",
       "      <td>Clc1ccc(Cl)c(N)c1</td>\n",
       "      <td>48.0</td>\n",
       "      <td>InChI=1S/C6H5Cl2N/c7-4-1-2-5(8)6(9)3-4/h1-3H,9H2</td>\n",
       "    </tr>\n",
       "  </tbody>\n",
       "</table>\n",
       "</div>"
      ],
      "text/plain": [
       "                                              SMILES  target  \\\n",
       "0                         Cc1cc(ccc1N)c2ccc(c(c2)C)N   130.0   \n",
       "1                                       Cc1cc(O)ccc1    11.0   \n",
       "2  COc1ccc(cc1C(=O)NCCc2ccc(cc2)S(=O)(=O)NC(=O)NC...   173.0   \n",
       "3                              COC1=CC=CC(=C1)C(=O)O   106.0   \n",
       "4                                  Clc1ccc(Cl)c(N)c1    48.0   \n",
       "\n",
       "                                               InChI  \n",
       "0  InChI=1S/C14H16N2/c1-9-7-11(3-5-13(9)15)12-4-6...  \n",
       "1      InChI=1S/C7H8O/c1-6-3-2-4-7(8)5-6/h2-5,8H,1H3  \n",
       "2  InChI=1S/C23H28ClN3O5S/c1-32-21-12-9-17(24)15-...  \n",
       "3  InChI=1S/C8H8O3/c1-11-7-4-2-3-6(5-7)8(9)10/h2-...  \n",
       "4   InChI=1S/C6H5Cl2N/c7-4-1-2-5(8)6(9)3-4/h1-3H,9H2  "
      ]
     },
     "execution_count": 31,
     "metadata": {},
     "output_type": "execute_result"
    }
   ],
   "source": [
    "train_old.head()"
   ]
  },
  {
   "cell_type": "code",
   "execution_count": 49,
   "metadata": {},
   "outputs": [],
   "source": [
    "all_old = pd.concat([train_old, valid_old, test_old]).reset_index(drop=True)"
   ]
  },
  {
   "cell_type": "code",
   "execution_count": 50,
   "metadata": {},
   "outputs": [
    {
     "data": {
      "text/plain": [
       "(3041, 3)"
      ]
     },
     "execution_count": 50,
     "metadata": {},
     "output_type": "execute_result"
    }
   ],
   "source": [
    "all_old.shape"
   ]
  },
  {
   "cell_type": "code",
   "execution_count": 63,
   "metadata": {},
   "outputs": [
    {
     "data": {
      "text/plain": [
       "{'C': 3016,\n",
       " 'N': 1203,\n",
       " 'O': 2000,\n",
       " 'S': 255,\n",
       " 'Cl': 462,\n",
       " 'Br': 210,\n",
       " 'I': 58,\n",
       " 'P': 30,\n",
       " 'F': 162,\n",
       " 'Si': 19,\n",
       " 'B': 5}"
      ]
     },
     "execution_count": 63,
     "metadata": {},
     "output_type": "execute_result"
    }
   ],
   "source": [
    "getEleSpread(all_old['SMILES'])"
   ]
  },
  {
   "cell_type": "code",
   "execution_count": 76,
   "metadata": {},
   "outputs": [],
   "source": [
    "import glob\n",
    "mols = []\n",
    "names1 = []\n",
    "i = 0\n",
    "for file in glob.glob('/scratch/dz1061/gcn/chemGraph/data/mp/bradley/split/sdf/*.sdf'):\n",
    "    mols.append(SDMolSupplier(file)[0])\n",
    "    names1.append(file.split('/')[-1].split('.')[0])\n",
    "    i += 1"
   ]
  },
  {
   "cell_type": "code",
   "execution_count": 23,
   "metadata": {},
   "outputs": [
    {
     "data": {
      "text/plain": [
       "{'C': 3010,\n",
       " 'O': 1994,\n",
       " 'N': 1202,\n",
       " 'F': 162,\n",
       " 'S': 255,\n",
       " 'Br': 209,\n",
       " 'I': 58,\n",
       " 'P': 30,\n",
       " 'Cl': 462,\n",
       " 'Si': 19}"
      ]
     },
     "execution_count": 23,
     "metadata": {},
     "output_type": "execute_result"
    }
   ],
   "source": [
    "getEleSpread(mols)"
   ]
  },
  {
   "cell_type": "code",
   "execution_count": 93,
   "metadata": {},
   "outputs": [
    {
     "data": {
      "text/plain": [
       "(0, 3018)"
      ]
     },
     "execution_count": 93,
     "metadata": {},
     "output_type": "execute_result"
    }
   ],
   "source": [
    "len(mols), len(names)"
   ]
  },
  {
   "cell_type": "code",
   "execution_count": 53,
   "metadata": {},
   "outputs": [],
   "source": [
    "issdf = []\n",
    "for i in range(all_old.shape[0]):\n",
    "    if str(i) in names: issdf.append(True)\n",
    "    else: issdf.append(False)"
   ]
  },
  {
   "cell_type": "code",
   "execution_count": 54,
   "metadata": {},
   "outputs": [],
   "source": [
    "all_old['issdf'] = issdf"
   ]
  },
  {
   "cell_type": "code",
   "execution_count": 100,
   "metadata": {},
   "outputs": [],
   "source": [
    "all_old_use = all_old[(~pd.isnull(all_old['InChI'])) & (all_old['issdf'])].reset_index(drop=True)"
   ]
  },
  {
   "cell_type": "code",
   "execution_count": 101,
   "metadata": {},
   "outputs": [
    {
     "data": {
      "text/plain": [
       "(3018, 4)"
      ]
     },
     "execution_count": 101,
     "metadata": {},
     "output_type": "execute_result"
    }
   ],
   "source": [
    "all_old_use.shape"
   ]
  },
  {
   "cell_type": "code",
   "execution_count": 81,
   "metadata": {},
   "outputs": [],
   "source": [
    "import glob\n",
    "mols = []\n",
    "names = []\n",
    "i = 0\n",
    "for file in glob.glob('/scratch/dz1061/gcn/chemGraph/data/mp/bradley/split/MMFFXYZ/*.xyz'):\n",
    "    #mols.append(SDMolSupplier(file)[0])\n",
    "    names.append(file.split('/')[-1].split('.')[0])\n",
    "    i += 1"
   ]
  },
  {
   "cell_type": "code",
   "execution_count": 121,
   "metadata": {},
   "outputs": [],
   "source": [
    "k = 0\n",
    "inchi_idx = {}\n",
    "for i,inchi in enumerate(all_old['InChI']):\n",
    "    if not inchi: continue\n",
    "    if str(i) in names:\n",
    "        k += 1\n",
    "        inchi_idx[inchi] = i"
   ]
  },
  {
   "cell_type": "code",
   "execution_count": 122,
   "metadata": {},
   "outputs": [
    {
     "data": {
      "text/plain": [
       "3015"
      ]
     },
     "execution_count": 122,
     "metadata": {},
     "output_type": "execute_result"
    }
   ],
   "source": [
    "len(inchi_idx)"
   ]
  },
  {
   "cell_type": "code",
   "execution_count": 99,
   "metadata": {},
   "outputs": [
    {
     "data": {
      "text/plain": [
       "3018"
      ]
     },
     "execution_count": 99,
     "metadata": {},
     "output_type": "execute_result"
    }
   ],
   "source": [
    "k"
   ]
  },
  {
   "cell_type": "code",
   "execution_count": 87,
   "metadata": {},
   "outputs": [
    {
     "data": {
      "text/plain": [
       "(3025, 4)"
      ]
     },
     "execution_count": 87,
     "metadata": {},
     "output_type": "execute_result"
    }
   ],
   "source": [
    "all_old[(~pd.isnull(all_old['InChI']))].shape"
   ]
  },
  {
   "cell_type": "markdown",
   "metadata": {},
   "source": [
    "There are 3 duplicates. "
   ]
  },
  {
   "cell_type": "code",
   "execution_count": null,
   "metadata": {},
   "outputs": [],
   "source": []
  },
  {
   "cell_type": "code",
   "execution_count": 90,
   "metadata": {},
   "outputs": [
    {
     "data": {
      "text/plain": [
       "2570"
      ]
     },
     "execution_count": 90,
     "metadata": {},
     "output_type": "execute_result"
    }
   ],
   "source": [
    "inchi_idx['InChI=1S/C5H8/c1-3-5-4-2/h3-5H,1H2,2H3']"
   ]
  },
  {
   "cell_type": "code",
   "execution_count": 102,
   "metadata": {},
   "outputs": [
    {
     "data": {
      "text/html": [
       "<div>\n",
       "<style scoped>\n",
       "    .dataframe tbody tr th:only-of-type {\n",
       "        vertical-align: middle;\n",
       "    }\n",
       "\n",
       "    .dataframe tbody tr th {\n",
       "        vertical-align: top;\n",
       "    }\n",
       "\n",
       "    .dataframe thead th {\n",
       "        text-align: right;\n",
       "    }\n",
       "</style>\n",
       "<table border=\"1\" class=\"dataframe\">\n",
       "  <thead>\n",
       "    <tr style=\"text-align: right;\">\n",
       "      <th></th>\n",
       "      <th>SMILES</th>\n",
       "      <th>target</th>\n",
       "      <th>InChI</th>\n",
       "      <th>issdf</th>\n",
       "    </tr>\n",
       "  </thead>\n",
       "  <tbody>\n",
       "    <tr>\n",
       "      <th>670</th>\n",
       "      <td>C=CC=C/C</td>\n",
       "      <td>-141.0</td>\n",
       "      <td>InChI=1S/C5H8/c1-3-5-4-2/h3-5H,1H2,2H3</td>\n",
       "      <td>True</td>\n",
       "    </tr>\n",
       "    <tr>\n",
       "      <th>943</th>\n",
       "      <td>O=C(OCC)c1ccc(O)cc1</td>\n",
       "      <td>116.0</td>\n",
       "      <td>InChI=1S/C9H10O3/c1-2-12-9(11)7-3-5-8(10)6-4-7...</td>\n",
       "      <td>True</td>\n",
       "    </tr>\n",
       "    <tr>\n",
       "      <th>1202</th>\n",
       "      <td>CC=C(C)CC</td>\n",
       "      <td>-135.0</td>\n",
       "      <td>InChI=1S/C6H12/c1-4-6(3)5-2/h4H,5H2,1-3H3</td>\n",
       "      <td>True</td>\n",
       "    </tr>\n",
       "    <tr>\n",
       "      <th>1296</th>\n",
       "      <td>CC=C(/C)CC</td>\n",
       "      <td>-138.0</td>\n",
       "      <td>InChI=1S/C6H12/c1-4-6(3)5-2/h4H,5H2,1-3H3</td>\n",
       "      <td>True</td>\n",
       "    </tr>\n",
       "    <tr>\n",
       "      <th>2549</th>\n",
       "      <td>C=CC=CC</td>\n",
       "      <td>-87.0</td>\n",
       "      <td>InChI=1S/C5H8/c1-3-5-4-2/h3-5H,1H2,2H3</td>\n",
       "      <td>True</td>\n",
       "    </tr>\n",
       "    <tr>\n",
       "      <th>2837</th>\n",
       "      <td>CCOC(=O)C1=CC=C(C=C1)O</td>\n",
       "      <td>116.0</td>\n",
       "      <td>InChI=1S/C9H10O3/c1-2-12-9(11)7-3-5-8(10)6-4-7...</td>\n",
       "      <td>True</td>\n",
       "    </tr>\n",
       "  </tbody>\n",
       "</table>\n",
       "</div>"
      ],
      "text/plain": [
       "                      SMILES  target  \\\n",
       "670                 C=CC=C/C  -141.0   \n",
       "943      O=C(OCC)c1ccc(O)cc1   116.0   \n",
       "1202               CC=C(C)CC  -135.0   \n",
       "1296              CC=C(/C)CC  -138.0   \n",
       "2549                 C=CC=CC   -87.0   \n",
       "2837  CCOC(=O)C1=CC=C(C=C1)O   116.0   \n",
       "\n",
       "                                                  InChI  issdf  \n",
       "670              InChI=1S/C5H8/c1-3-5-4-2/h3-5H,1H2,2H3   True  \n",
       "943   InChI=1S/C9H10O3/c1-2-12-9(11)7-3-5-8(10)6-4-7...   True  \n",
       "1202          InChI=1S/C6H12/c1-4-6(3)5-2/h4H,5H2,1-3H3   True  \n",
       "1296          InChI=1S/C6H12/c1-4-6(3)5-2/h4H,5H2,1-3H3   True  \n",
       "2549             InChI=1S/C5H8/c1-3-5-4-2/h3-5H,1H2,2H3   True  \n",
       "2837  InChI=1S/C9H10O3/c1-2-12-9(11)7-3-5-8(10)6-4-7...   True  "
      ]
     },
     "execution_count": 102,
     "metadata": {},
     "output_type": "execute_result"
    }
   ],
   "source": [
    "all_old_use[all_old_use.duplicated('InChI', False)]"
   ]
  },
  {
   "cell_type": "code",
   "execution_count": 104,
   "metadata": {},
   "outputs": [
    {
     "data": {
      "text/plain": [
       "3015"
      ]
     },
     "execution_count": 104,
     "metadata": {},
     "output_type": "execute_result"
    }
   ],
   "source": [
    "len(pickle.load(open('/scratch/dz1061/gcn/chemGraph/data/mp/bradley/split/inchi_index.pt', 'rb')))"
   ]
  },
  {
   "cell_type": "code",
   "execution_count": 106,
   "metadata": {},
   "outputs": [],
   "source": [
    "all_old_use_group = all_old_use.groupby('InChI').mean()"
   ]
  },
  {
   "cell_type": "code",
   "execution_count": 107,
   "metadata": {},
   "outputs": [],
   "source": [
    "all_old_use_group['InChI'] = all_old_use_group.index"
   ]
  },
  {
   "cell_type": "code",
   "execution_count": 108,
   "metadata": {},
   "outputs": [
    {
     "data": {
      "text/html": [
       "<div>\n",
       "<style scoped>\n",
       "    .dataframe tbody tr th:only-of-type {\n",
       "        vertical-align: middle;\n",
       "    }\n",
       "\n",
       "    .dataframe tbody tr th {\n",
       "        vertical-align: top;\n",
       "    }\n",
       "\n",
       "    .dataframe thead th {\n",
       "        text-align: right;\n",
       "    }\n",
       "</style>\n",
       "<table border=\"1\" class=\"dataframe\">\n",
       "  <thead>\n",
       "    <tr style=\"text-align: right;\">\n",
       "      <th></th>\n",
       "      <th>target</th>\n",
       "      <th>issdf</th>\n",
       "      <th>InChI</th>\n",
       "    </tr>\n",
       "    <tr>\n",
       "      <th>InChI</th>\n",
       "      <th></th>\n",
       "      <th></th>\n",
       "      <th></th>\n",
       "    </tr>\n",
       "  </thead>\n",
       "  <tbody>\n",
       "    <tr>\n",
       "      <th>InChI=1S/Br2/c1-2</th>\n",
       "      <td>-7.2</td>\n",
       "      <td>True</td>\n",
       "      <td>InChI=1S/Br2/c1-2</td>\n",
       "    </tr>\n",
       "    <tr>\n",
       "      <th>InChI=1S/C10F8/c11-3-1-2(5(13)9(17)7(3)15)6(14)10(18)8(16)4(1)12</th>\n",
       "      <td>87.0</td>\n",
       "      <td>True</td>\n",
       "      <td>InChI=1S/C10F8/c11-3-1-2(5(13)9(17)7(3)15)6(14...</td>\n",
       "    </tr>\n",
       "    <tr>\n",
       "      <th>InChI=1S/C10H10N2/c1-2-4-10(5-3-1)8-12-7-6-11-9-12/h1-7,9H,8H2</th>\n",
       "      <td>71.0</td>\n",
       "      <td>True</td>\n",
       "      <td>InChI=1S/C10H10N2/c1-2-4-10(5-3-1)8-12-7-6-11-...</td>\n",
       "    </tr>\n",
       "    <tr>\n",
       "      <th>InChI=1S/C10H10N2/c1-7-6-9(11)8-4-2-3-5-10(8)12-7/h2-6H,1H3,(H2,11,12)</th>\n",
       "      <td>164.0</td>\n",
       "      <td>True</td>\n",
       "      <td>InChI=1S/C10H10N2/c1-7-6-9(11)8-4-2-3-5-10(8)1...</td>\n",
       "    </tr>\n",
       "    <tr>\n",
       "      <th>InChI=1S/C10H10N2/c11-8-5-1-3-7-4-2-6-9(12)10(7)8/h1-6H,11-12H2</th>\n",
       "      <td>63.0</td>\n",
       "      <td>True</td>\n",
       "      <td>InChI=1S/C10H10N2/c11-8-5-1-3-7-4-2-6-9(12)10(...</td>\n",
       "    </tr>\n",
       "    <tr>\n",
       "      <th>...</th>\n",
       "      <td>...</td>\n",
       "      <td>...</td>\n",
       "      <td>...</td>\n",
       "    </tr>\n",
       "    <tr>\n",
       "      <th>InChI=1S/Cl3HSi/c1-4(2)3/h4H</th>\n",
       "      <td>-127.0</td>\n",
       "      <td>True</td>\n",
       "      <td>InChI=1S/Cl3HSi/c1-4(2)3/h4H</td>\n",
       "    </tr>\n",
       "    <tr>\n",
       "      <th>InChI=1S/F2O2S/c1-5(2,3)4</th>\n",
       "      <td>-135.8</td>\n",
       "      <td>True</td>\n",
       "      <td>InChI=1S/F2O2S/c1-5(2,3)4</td>\n",
       "    </tr>\n",
       "    <tr>\n",
       "      <th>InChI=1S/I2/c1-2</th>\n",
       "      <td>113.5</td>\n",
       "      <td>True</td>\n",
       "      <td>InChI=1S/I2/c1-2</td>\n",
       "    </tr>\n",
       "    <tr>\n",
       "      <th>InChI=1S/N2O/c1-2-3</th>\n",
       "      <td>-90.8</td>\n",
       "      <td>True</td>\n",
       "      <td>InChI=1S/N2O/c1-2-3</td>\n",
       "    </tr>\n",
       "    <tr>\n",
       "      <th>InChI=1S/O2S/c1-3-2</th>\n",
       "      <td>-73.0</td>\n",
       "      <td>True</td>\n",
       "      <td>InChI=1S/O2S/c1-3-2</td>\n",
       "    </tr>\n",
       "  </tbody>\n",
       "</table>\n",
       "<p>3015 rows × 3 columns</p>\n",
       "</div>"
      ],
      "text/plain": [
       "                                                    target  issdf  \\\n",
       "InChI                                                               \n",
       "InChI=1S/Br2/c1-2                                     -7.2   True   \n",
       "InChI=1S/C10F8/c11-3-1-2(5(13)9(17)7(3)15)6(14)...    87.0   True   \n",
       "InChI=1S/C10H10N2/c1-2-4-10(5-3-1)8-12-7-6-11-9...    71.0   True   \n",
       "InChI=1S/C10H10N2/c1-7-6-9(11)8-4-2-3-5-10(8)12...   164.0   True   \n",
       "InChI=1S/C10H10N2/c11-8-5-1-3-7-4-2-6-9(12)10(7...    63.0   True   \n",
       "...                                                    ...    ...   \n",
       "InChI=1S/Cl3HSi/c1-4(2)3/h4H                        -127.0   True   \n",
       "InChI=1S/F2O2S/c1-5(2,3)4                           -135.8   True   \n",
       "InChI=1S/I2/c1-2                                     113.5   True   \n",
       "InChI=1S/N2O/c1-2-3                                  -90.8   True   \n",
       "InChI=1S/O2S/c1-3-2                                  -73.0   True   \n",
       "\n",
       "                                                                                                InChI  \n",
       "InChI                                                                                                  \n",
       "InChI=1S/Br2/c1-2                                                                   InChI=1S/Br2/c1-2  \n",
       "InChI=1S/C10F8/c11-3-1-2(5(13)9(17)7(3)15)6(14)...  InChI=1S/C10F8/c11-3-1-2(5(13)9(17)7(3)15)6(14...  \n",
       "InChI=1S/C10H10N2/c1-2-4-10(5-3-1)8-12-7-6-11-9...  InChI=1S/C10H10N2/c1-2-4-10(5-3-1)8-12-7-6-11-...  \n",
       "InChI=1S/C10H10N2/c1-7-6-9(11)8-4-2-3-5-10(8)12...  InChI=1S/C10H10N2/c1-7-6-9(11)8-4-2-3-5-10(8)1...  \n",
       "InChI=1S/C10H10N2/c11-8-5-1-3-7-4-2-6-9(12)10(7...  InChI=1S/C10H10N2/c11-8-5-1-3-7-4-2-6-9(12)10(...  \n",
       "...                                                                                               ...  \n",
       "InChI=1S/Cl3HSi/c1-4(2)3/h4H                                             InChI=1S/Cl3HSi/c1-4(2)3/h4H  \n",
       "InChI=1S/F2O2S/c1-5(2,3)4                                                   InChI=1S/F2O2S/c1-5(2,3)4  \n",
       "InChI=1S/I2/c1-2                                                                     InChI=1S/I2/c1-2  \n",
       "InChI=1S/N2O/c1-2-3                                                               InChI=1S/N2O/c1-2-3  \n",
       "InChI=1S/O2S/c1-3-2                                                               InChI=1S/O2S/c1-3-2  \n",
       "\n",
       "[3015 rows x 3 columns]"
      ]
     },
     "execution_count": 108,
     "metadata": {},
     "output_type": "execute_result"
    }
   ],
   "source": [
    "all_old_use_group"
   ]
  },
  {
   "cell_type": "code",
   "execution_count": 109,
   "metadata": {},
   "outputs": [],
   "source": [
    "all_old_use_group['SMILES'] = all_old_use_group['InChI'].apply(lambda x: Chem.MolToSmiles(Chem.MolFromInchi(x)))"
   ]
  },
  {
   "cell_type": "code",
   "execution_count": 110,
   "metadata": {},
   "outputs": [],
   "source": [
    "from sklearn.model_selection import train_test_split"
   ]
  },
  {
   "cell_type": "code",
   "execution_count": 111,
   "metadata": {},
   "outputs": [],
   "source": [
    "rest, test = train_test_split(all_old_use_group, test_size=0.1, random_state=123)\n",
    "train, valid = train_test_split(rest, test_size=0.1, random_state=123)"
   ]
  },
  {
   "cell_type": "code",
   "execution_count": 112,
   "metadata": {},
   "outputs": [
    {
     "data": {
      "text/plain": [
       "((2441, 4), (272, 4), (302, 4))"
      ]
     },
     "execution_count": 112,
     "metadata": {},
     "output_type": "execute_result"
    }
   ],
   "source": [
    "train.shape, valid.shape, test.shape"
   ]
  },
  {
   "cell_type": "code",
   "execution_count": 113,
   "metadata": {},
   "outputs": [
    {
     "data": {
      "text/html": [
       "<div>\n",
       "<style scoped>\n",
       "    .dataframe tbody tr th:only-of-type {\n",
       "        vertical-align: middle;\n",
       "    }\n",
       "\n",
       "    .dataframe tbody tr th {\n",
       "        vertical-align: top;\n",
       "    }\n",
       "\n",
       "    .dataframe thead th {\n",
       "        text-align: right;\n",
       "    }\n",
       "</style>\n",
       "<table border=\"1\" class=\"dataframe\">\n",
       "  <thead>\n",
       "    <tr style=\"text-align: right;\">\n",
       "      <th></th>\n",
       "      <th>target</th>\n",
       "      <th>issdf</th>\n",
       "      <th>InChI</th>\n",
       "      <th>SMILES</th>\n",
       "    </tr>\n",
       "    <tr>\n",
       "      <th>InChI</th>\n",
       "      <th></th>\n",
       "      <th></th>\n",
       "      <th></th>\n",
       "      <th></th>\n",
       "    </tr>\n",
       "  </thead>\n",
       "  <tbody>\n",
       "    <tr>\n",
       "      <th>InChI=1S/C8H18/c1-5-7-8(3,4)6-2/h5-7H2,1-4H3</th>\n",
       "      <td>-126.0</td>\n",
       "      <td>True</td>\n",
       "      <td>InChI=1S/C8H18/c1-5-7-8(3,4)6-2/h5-7H2,1-4H3</td>\n",
       "      <td>CCCC(C)(C)CC</td>\n",
       "    </tr>\n",
       "    <tr>\n",
       "      <th>InChI=1S/C3H5NS2/c5-3-4-1-2-6-3/h1-2H2,(H,4,5)</th>\n",
       "      <td>105.0</td>\n",
       "      <td>True</td>\n",
       "      <td>InChI=1S/C3H5NS2/c5-3-4-1-2-6-3/h1-2H2,(H,4,5)</td>\n",
       "      <td>SC1=NCCS1</td>\n",
       "    </tr>\n",
       "    <tr>\n",
       "      <th>InChI=1S/C8H9Cl/c1-7-4-2-3-5-8(7)6-9/h2-5H,6H2,1H3</th>\n",
       "      <td>-2.0</td>\n",
       "      <td>True</td>\n",
       "      <td>InChI=1S/C8H9Cl/c1-7-4-2-3-5-8(7)6-9/h2-5H,6H2...</td>\n",
       "      <td>Cc1ccccc1CCl</td>\n",
       "    </tr>\n",
       "    <tr>\n",
       "      <th>InChI=1S/C7H7NO/c9-8-6-7-4-2-1-3-5-7/h1-6,9H</th>\n",
       "      <td>36.5</td>\n",
       "      <td>True</td>\n",
       "      <td>InChI=1S/C7H7NO/c9-8-6-7-4-2-1-3-5-7/h1-6,9H</td>\n",
       "      <td>ON=Cc1ccccc1</td>\n",
       "    </tr>\n",
       "    <tr>\n",
       "      <th>InChI=1S/C14H12O2/c15-14(16)13(11-7-3-1-4-8-11)12-9-5-2-6-10-12/h1-10,13H,(H,15,16)</th>\n",
       "      <td>147.0</td>\n",
       "      <td>True</td>\n",
       "      <td>InChI=1S/C14H12O2/c15-14(16)13(11-7-3-1-4-8-11...</td>\n",
       "      <td>O=C(O)C(c1ccccc1)c1ccccc1</td>\n",
       "    </tr>\n",
       "  </tbody>\n",
       "</table>\n",
       "</div>"
      ],
      "text/plain": [
       "                                                    target  issdf  \\\n",
       "InChI                                                               \n",
       "InChI=1S/C8H18/c1-5-7-8(3,4)6-2/h5-7H2,1-4H3        -126.0   True   \n",
       "InChI=1S/C3H5NS2/c5-3-4-1-2-6-3/h1-2H2,(H,4,5)       105.0   True   \n",
       "InChI=1S/C8H9Cl/c1-7-4-2-3-5-8(7)6-9/h2-5H,6H2,1H3    -2.0   True   \n",
       "InChI=1S/C7H7NO/c9-8-6-7-4-2-1-3-5-7/h1-6,9H          36.5   True   \n",
       "InChI=1S/C14H12O2/c15-14(16)13(11-7-3-1-4-8-11)...   147.0   True   \n",
       "\n",
       "                                                                                                InChI  \\\n",
       "InChI                                                                                                   \n",
       "InChI=1S/C8H18/c1-5-7-8(3,4)6-2/h5-7H2,1-4H3             InChI=1S/C8H18/c1-5-7-8(3,4)6-2/h5-7H2,1-4H3   \n",
       "InChI=1S/C3H5NS2/c5-3-4-1-2-6-3/h1-2H2,(H,4,5)         InChI=1S/C3H5NS2/c5-3-4-1-2-6-3/h1-2H2,(H,4,5)   \n",
       "InChI=1S/C8H9Cl/c1-7-4-2-3-5-8(7)6-9/h2-5H,6H2,1H3  InChI=1S/C8H9Cl/c1-7-4-2-3-5-8(7)6-9/h2-5H,6H2...   \n",
       "InChI=1S/C7H7NO/c9-8-6-7-4-2-1-3-5-7/h1-6,9H             InChI=1S/C7H7NO/c9-8-6-7-4-2-1-3-5-7/h1-6,9H   \n",
       "InChI=1S/C14H12O2/c15-14(16)13(11-7-3-1-4-8-11)...  InChI=1S/C14H12O2/c15-14(16)13(11-7-3-1-4-8-11...   \n",
       "\n",
       "                                                                       SMILES  \n",
       "InChI                                                                          \n",
       "InChI=1S/C8H18/c1-5-7-8(3,4)6-2/h5-7H2,1-4H3                     CCCC(C)(C)CC  \n",
       "InChI=1S/C3H5NS2/c5-3-4-1-2-6-3/h1-2H2,(H,4,5)                      SC1=NCCS1  \n",
       "InChI=1S/C8H9Cl/c1-7-4-2-3-5-8(7)6-9/h2-5H,6H2,1H3               Cc1ccccc1CCl  \n",
       "InChI=1S/C7H7NO/c9-8-6-7-4-2-1-3-5-7/h1-6,9H                     ON=Cc1ccccc1  \n",
       "InChI=1S/C14H12O2/c15-14(16)13(11-7-3-1-4-8-11)...  O=C(O)C(c1ccccc1)c1ccccc1  "
      ]
     },
     "execution_count": 113,
     "metadata": {},
     "output_type": "execute_result"
    }
   ],
   "source": [
    "train.head()"
   ]
  },
  {
   "cell_type": "code",
   "execution_count": 115,
   "metadata": {},
   "outputs": [
    {
     "name": "stdout",
     "output_type": "stream",
     "text": [
      "dict_keys(['Br', 'C', 'F', 'N', 'O', 'Cl', 'S', 'P', 'I', 'Si'])\n"
     ]
    }
   ],
   "source": [
    "print(getEleSpread(all_old_use_group['SMILES']).keys())"
   ]
  },
  {
   "cell_type": "code",
   "execution_count": 118,
   "metadata": {},
   "outputs": [],
   "source": [
    "all_old_use_group['charge'] = all_old_use_group['InChI'].apply(lambda x: getCharge(x))"
   ]
  },
  {
   "cell_type": "code",
   "execution_count": 119,
   "metadata": {},
   "outputs": [
    {
     "data": {
      "text/html": [
       "<div>\n",
       "<style scoped>\n",
       "    .dataframe tbody tr th:only-of-type {\n",
       "        vertical-align: middle;\n",
       "    }\n",
       "\n",
       "    .dataframe tbody tr th {\n",
       "        vertical-align: top;\n",
       "    }\n",
       "\n",
       "    .dataframe thead th {\n",
       "        text-align: right;\n",
       "    }\n",
       "</style>\n",
       "<table border=\"1\" class=\"dataframe\">\n",
       "  <thead>\n",
       "    <tr style=\"text-align: right;\">\n",
       "      <th></th>\n",
       "      <th>target</th>\n",
       "      <th>charge</th>\n",
       "    </tr>\n",
       "  </thead>\n",
       "  <tbody>\n",
       "    <tr>\n",
       "      <th>count</th>\n",
       "      <td>3015.000000</td>\n",
       "      <td>3015.0</td>\n",
       "    </tr>\n",
       "    <tr>\n",
       "      <th>mean</th>\n",
       "      <td>62.364295</td>\n",
       "      <td>0.0</td>\n",
       "    </tr>\n",
       "    <tr>\n",
       "      <th>std</th>\n",
       "      <td>95.513292</td>\n",
       "      <td>0.0</td>\n",
       "    </tr>\n",
       "    <tr>\n",
       "      <th>min</th>\n",
       "      <td>-188.000000</td>\n",
       "      <td>0.0</td>\n",
       "    </tr>\n",
       "    <tr>\n",
       "      <th>25%</th>\n",
       "      <td>5.000000</td>\n",
       "      <td>0.0</td>\n",
       "    </tr>\n",
       "    <tr>\n",
       "      <th>50%</th>\n",
       "      <td>63.000000</td>\n",
       "      <td>0.0</td>\n",
       "    </tr>\n",
       "    <tr>\n",
       "      <th>75%</th>\n",
       "      <td>129.000000</td>\n",
       "      <td>0.0</td>\n",
       "    </tr>\n",
       "    <tr>\n",
       "      <th>max</th>\n",
       "      <td>438.000000</td>\n",
       "      <td>0.0</td>\n",
       "    </tr>\n",
       "  </tbody>\n",
       "</table>\n",
       "</div>"
      ],
      "text/plain": [
       "            target  charge\n",
       "count  3015.000000  3015.0\n",
       "mean     62.364295     0.0\n",
       "std      95.513292     0.0\n",
       "min    -188.000000     0.0\n",
       "25%       5.000000     0.0\n",
       "50%      63.000000     0.0\n",
       "75%     129.000000     0.0\n",
       "max     438.000000     0.0"
      ]
     },
     "execution_count": 119,
     "metadata": {},
     "output_type": "execute_result"
    }
   ],
   "source": [
    "all_old_use_group.describe()"
   ]
  },
  {
   "cell_type": "code",
   "execution_count": 120,
   "metadata": {},
   "outputs": [],
   "source": [
    "train[['InChI', 'SMILES', 'target']].to_csv('/scratch/dz1061/gcn/chemGraph/data/mp/bradley/split/train.csv', index=False)\n",
    "valid[['InChI', 'SMILES', 'target']].to_csv('/scratch/dz1061/gcn/chemGraph/data/mp/bradley/split/valid.csv', index=False)\n",
    "test[['InChI', 'SMILES', 'target']].to_csv('/scratch/dz1061/gcn/chemGraph/data/mp/bradley/split/test.csv', index=False)\n",
    "\n"
   ]
  },
  {
   "cell_type": "code",
   "execution_count": 123,
   "metadata": {},
   "outputs": [],
   "source": [
    "with open('/scratch/dz1061/gcn/chemGraph/data/mp/bradley/split/inchi_index.pt', 'wb') as f:\n",
    "    pickle.dump(inchi_idx, f, protocol=pickle.HIGHEST_PROTOCOL)"
   ]
  },
  {
   "cell_type": "code",
   "execution_count": null,
   "metadata": {},
   "outputs": [],
   "source": []
  }
 ],
 "metadata": {
  "kernelspec": {
   "display_name": "Python 3",
   "language": "python",
   "name": "python3"
  },
  "language_info": {
   "codemirror_mode": {
    "name": "ipython",
    "version": 3
   },
   "file_extension": ".py",
   "mimetype": "text/x-python",
   "name": "python",
   "nbconvert_exporter": "python",
   "pygments_lexer": "ipython3",
   "version": "3.8.5"
  }
 },
 "nbformat": 4,
 "nbformat_minor": 4
}

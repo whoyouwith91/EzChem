{
 "cells": [
  {
   "cell_type": "code",
   "execution_count": 1,
   "metadata": {},
   "outputs": [
    {
     "name": "stderr",
     "output_type": "stream",
     "text": [
      "RDKit WARNING: [09:52:28] Enabling RDKit 2019.09.3 jupyter extensions\n"
     ]
    }
   ],
   "source": [
    "import os\n",
    "\n",
    "import pandas as pd\n",
    "import rdkit\n",
    "from rdkit import Chem\n",
    "\n",
    "import numpy as np\n",
    "\n",
    "import matplotlib.pyplot as plt\n",
    "\n",
    "import seaborn as sns\n",
    "\n",
    "from collections import Counter\n",
    "\n",
    "from scipy import stats\n",
    "\n",
    "from rdkit.Chem.Descriptors import ExactMolWt"
   ]
  },
  {
   "cell_type": "code",
   "execution_count": 41,
   "metadata": {},
   "outputs": [],
   "source": [
    "from sklearn.metrics import mean_absolute_error\n",
    "from sklearn.metrics import mean_squared_error"
   ]
  },
  {
   "cell_type": "code",
   "execution_count": 2,
   "metadata": {},
   "outputs": [],
   "source": [
    "def getmol(x):\n",
    "    try:\n",
    "        mol = Chem.MolFromSmiles(x)\n",
    "        return mol\n",
    "    except:\n",
    "        return None\n",
    "    \n",
    "def getinchi(x):\n",
    "    try:\n",
    "        mol = Chem.MolFromSmiles(x)\n",
    "        return Chem.MolToInchi(mol)\n",
    "    except:\n",
    "        return None\n",
    "\n",
    "def getRB(x):\n",
    "    try:\n",
    "        mol = Chem.MolFromSmiles(x)\n",
    "        return rdkit.Chem.rdMolDescriptors.CalcNumRotatableBonds(mol)\n",
    "    except:\n",
    "        return None\n",
    "\n",
    "def getMW(x):\n",
    "    try:\n",
    "        mol = Chem.MolFromSmiles(x)\n",
    "        return ExactMolWt(mol)\n",
    "    except:\n",
    "        return None\n",
    "    \n",
    "def r2(x, y):\n",
    "    #print(stats.pearsonr(x, y)[0])\n",
    "    return stats.pearsonr(x, y)[0] ** 2\n",
    "\n",
    "def getEle(smilist):\n",
    "    eles = set()\n",
    "    for smi in smilist:\n",
    "        mol = Chem.MolFromSmiles(smi)\n",
    "        elelist = list(Counter(atom.GetSymbol() for atom in mol.GetAtoms()).keys())\n",
    "        for ele in elelist:\n",
    "            #for e in ele:\n",
    "            eles.add(ele)\n",
    "    return eles\n",
    "\n",
    "def filterdf(smilist):\n",
    "    filters = []\n",
    "    for smi in smilist:\n",
    "        mol = Chem.MolFromSmiles(smi)\n",
    "        elelist = list(Counter(atom.GetSymbol() for atom in mol.GetAtoms()).keys())\n",
    "        for ele in elelist:\n",
    "            if ele in ['Br', 'C', 'Cl', 'F', 'I', 'N', 'O', 'P', 'S', 'H']:\n",
    "                temp = True\n",
    "            else:\n",
    "                temp = False\n",
    "                break\n",
    "        filters.append(temp)\n",
    "    return filters\n",
    "\n",
    "def addInfo(df):\n",
    "    assert 'SMILES' in list(df.columns)\n",
    "    df['Mol'] = df['SMILES'].apply(lambda x: getmol(x))\n",
    "    df = df[~pd.isnull(df['Mol'])].reset_index(drop=True)\n",
    "    \n",
    "    df['InChI'] = df['SMILES'].apply(lambda x: getinchi(x))\n",
    "    df['RB'] = df['SMILES'].apply(lambda x: getRB(x))\n",
    "    df['MW'] = df['SMILES'].apply(lambda x: getMW(x))\n",
    "    ele_ = getEle(df['SMILES'])\n",
    "    \n",
    "    return df, ele_\n",
    "\n",
    "def getStats(df):\n",
    "    return df.describe().loc[['mean','std', 'min', 'max']]\n",
    "\n",
    "def getFigs(df, properName, save=False, savepath=None, savename=None):\n",
    "    f1 = plt.figure(figsize=(10,10))\n",
    "    ax1 = f1.add_subplot(111)\n",
    "    sns.distplot(df[properName], ax=ax1)\n",
    "    ax1.set_xlabel(properName, fontsize=25)\n",
    "    ax1.set_ylabel('Density', fontsize=25)\n",
    "    ax1.tick_params(axis = 'both', which = 'major', labelsize = 15)\n",
    "    ax1.xaxis.labelpad = 20\n",
    "    plt.tight_layout()\n",
    "    if save:\n",
    "        f1.savefig(os.path.join(savepath, savename), format='svg', dpi=1200)\n",
    "\n",
    "def group(df, identifier):\n",
    "    df1 = df.groupby(identifier).mean()\n",
    "    df1['InChI'] = df1.index\n",
    "    df1['SMILES'] = df.groupby(identifier).max()['SMILES']\n",
    "    df1.index = range(df1.shape[0])\n",
    "    return df1"
   ]
  },
  {
   "cell_type": "markdown",
   "metadata": {},
   "source": [
    "### Minnesota Database \n",
    "###"
   ]
  },
  {
   "cell_type": "code",
   "execution_count": 3,
   "metadata": {},
   "outputs": [],
   "source": [
    "minne = pd.read_csv('../MNSol_all_rev.csv')"
   ]
  },
  {
   "cell_type": "code",
   "execution_count": 90,
   "metadata": {},
   "outputs": [],
   "source": [
    "minne_use = minne[(minne['Solvent'] == 'octanol') & (minne['Charge'] == 0)][['FileHandle', 'SoluteName',  'Smiles', 'DeltaGsolv']].reset_index(drop=True)\n"
   ]
  },
  {
   "cell_type": "code",
   "execution_count": 91,
   "metadata": {},
   "outputs": [
    {
     "data": {
      "text/plain": [
       "(247, 4)"
      ]
     },
     "execution_count": 91,
     "metadata": {},
     "output_type": "execute_result"
    }
   ],
   "source": [
    "minne_use.shape"
   ]
  },
  {
   "cell_type": "code",
   "execution_count": 92,
   "metadata": {},
   "outputs": [],
   "source": [
    "minne_use = minne_use.rename(columns={'Smiles': 'SMILES', 'DeltaGsolv': 'Sol'})"
   ]
  },
  {
   "cell_type": "code",
   "execution_count": 93,
   "metadata": {},
   "outputs": [],
   "source": [
    "minne_use1, eleDis = addInfo(minne_use)"
   ]
  },
  {
   "cell_type": "code",
   "execution_count": 87,
   "metadata": {},
   "outputs": [
    {
     "data": {
      "text/plain": [
       "{'Br', 'C', 'Cl', 'F', 'H', 'I', 'N', 'O', 'P', 'S', 'Si'}"
      ]
     },
     "execution_count": 87,
     "metadata": {},
     "output_type": "execute_result"
    }
   ],
   "source": [
    "eleDis"
   ]
  },
  {
   "cell_type": "code",
   "execution_count": 94,
   "metadata": {},
   "outputs": [
    {
     "data": {
      "text/plain": [
       "(246, 8)"
      ]
     },
     "execution_count": 94,
     "metadata": {},
     "output_type": "execute_result"
    }
   ],
   "source": [
    "minne_use1.shape"
   ]
  },
  {
   "cell_type": "code",
   "execution_count": 79,
   "metadata": {},
   "outputs": [],
   "source": [
    "minne_use1.to_csv('./solvation_oct_exp.csv', index=False)"
   ]
  },
  {
   "cell_type": "code",
   "execution_count": 10,
   "metadata": {},
   "outputs": [
    {
     "data": {
      "text/plain": [
       "246"
      ]
     },
     "execution_count": 10,
     "metadata": {},
     "output_type": "execute_result"
    }
   ],
   "source": [
    "len(set(minne_use1['InChI']))"
   ]
  },
  {
   "cell_type": "code",
   "execution_count": 11,
   "metadata": {},
   "outputs": [
    {
     "data": {
      "text/html": [
       "<div>\n",
       "<style scoped>\n",
       "    .dataframe tbody tr th:only-of-type {\n",
       "        vertical-align: middle;\n",
       "    }\n",
       "\n",
       "    .dataframe tbody tr th {\n",
       "        vertical-align: top;\n",
       "    }\n",
       "\n",
       "    .dataframe thead th {\n",
       "        text-align: right;\n",
       "    }\n",
       "</style>\n",
       "<table border=\"1\" class=\"dataframe\">\n",
       "  <thead>\n",
       "    <tr style=\"text-align: right;\">\n",
       "      <th></th>\n",
       "      <th>FileHandle</th>\n",
       "      <th>SoluteName</th>\n",
       "      <th>SMILES</th>\n",
       "      <th>Sol</th>\n",
       "      <th>Mol</th>\n",
       "      <th>InChI</th>\n",
       "      <th>RB</th>\n",
       "      <th>MW</th>\n",
       "    </tr>\n",
       "  </thead>\n",
       "  <tbody>\n",
       "    <tr>\n",
       "      <th>0</th>\n",
       "      <td>0008noc</td>\n",
       "      <td>n-octane</td>\n",
       "      <td>C(CCCC)CCC</td>\n",
       "      <td>-4.18</td>\n",
       "      <td>&lt;rdkit.Chem.rdchem.Mol object at 0x1a222792b0&gt;</td>\n",
       "      <td>InChI=1S/C8H18/c1-3-5-7-8-6-4-2/h3-8H2,1-2H3</td>\n",
       "      <td>5</td>\n",
       "      <td>114.140851</td>\n",
       "    </tr>\n",
       "    <tr>\n",
       "      <th>1</th>\n",
       "      <td>0036tol</td>\n",
       "      <td>toluene</td>\n",
       "      <td>c1cc(ccc1)C</td>\n",
       "      <td>-4.55</td>\n",
       "      <td>&lt;rdkit.Chem.rdchem.Mol object at 0x1a222795d0&gt;</td>\n",
       "      <td>InChI=1S/C7H8/c1-7-5-3-2-4-6-7/h2-6H,1H3</td>\n",
       "      <td>0</td>\n",
       "      <td>92.062600</td>\n",
       "    </tr>\n",
       "    <tr>\n",
       "      <th>2</th>\n",
       "      <td>0045eth</td>\n",
       "      <td>ethanol</td>\n",
       "      <td>OCC</td>\n",
       "      <td>-4.36</td>\n",
       "      <td>&lt;rdkit.Chem.rdchem.Mol object at 0x1a22279620&gt;</td>\n",
       "      <td>InChI=1S/C2H6O/c1-2-3/h3H,2H2,1H3</td>\n",
       "      <td>0</td>\n",
       "      <td>46.041865</td>\n",
       "    </tr>\n",
       "    <tr>\n",
       "      <th>3</th>\n",
       "      <td>0062dio</td>\n",
       "      <td>1,4-dioxane</td>\n",
       "      <td>C1COCCO1</td>\n",
       "      <td>-4.89</td>\n",
       "      <td>&lt;rdkit.Chem.rdchem.Mol object at 0x1a22279670&gt;</td>\n",
       "      <td>InChI=1S/C4H8O2/c1-2-6-4-3-5-1/h1-4H2</td>\n",
       "      <td>0</td>\n",
       "      <td>88.052429</td>\n",
       "    </tr>\n",
       "    <tr>\n",
       "      <th>4</th>\n",
       "      <td>0076but</td>\n",
       "      <td>2-butanone</td>\n",
       "      <td>CCC(=O)C</td>\n",
       "      <td>-3.78</td>\n",
       "      <td>&lt;rdkit.Chem.rdchem.Mol object at 0x1a222796c0&gt;</td>\n",
       "      <td>InChI=1S/C4H8O/c1-3-4(2)5/h3H2,1-2H3</td>\n",
       "      <td>1</td>\n",
       "      <td>72.057515</td>\n",
       "    </tr>\n",
       "  </tbody>\n",
       "</table>\n",
       "</div>"
      ],
      "text/plain": [
       "  FileHandle   SoluteName       SMILES   Sol  \\\n",
       "0    0008noc     n-octane   C(CCCC)CCC -4.18   \n",
       "1    0036tol      toluene  c1cc(ccc1)C -4.55   \n",
       "2    0045eth      ethanol          OCC -4.36   \n",
       "3    0062dio  1,4-dioxane     C1COCCO1 -4.89   \n",
       "4    0076but   2-butanone     CCC(=O)C -3.78   \n",
       "\n",
       "                                              Mol  \\\n",
       "0  <rdkit.Chem.rdchem.Mol object at 0x1a222792b0>   \n",
       "1  <rdkit.Chem.rdchem.Mol object at 0x1a222795d0>   \n",
       "2  <rdkit.Chem.rdchem.Mol object at 0x1a22279620>   \n",
       "3  <rdkit.Chem.rdchem.Mol object at 0x1a22279670>   \n",
       "4  <rdkit.Chem.rdchem.Mol object at 0x1a222796c0>   \n",
       "\n",
       "                                          InChI  RB          MW  \n",
       "0  InChI=1S/C8H18/c1-3-5-7-8-6-4-2/h3-8H2,1-2H3   5  114.140851  \n",
       "1      InChI=1S/C7H8/c1-7-5-3-2-4-6-7/h2-6H,1H3   0   92.062600  \n",
       "2             InChI=1S/C2H6O/c1-2-3/h3H,2H2,1H3   0   46.041865  \n",
       "3         InChI=1S/C4H8O2/c1-2-6-4-3-5-1/h1-4H2   0   88.052429  \n",
       "4          InChI=1S/C4H8O/c1-3-4(2)5/h3H2,1-2H3   1   72.057515  "
      ]
     },
     "execution_count": 11,
     "metadata": {},
     "output_type": "execute_result"
    }
   ],
   "source": [
    "minne_use1.head()"
   ]
  },
  {
   "cell_type": "code",
   "execution_count": 13,
   "metadata": {},
   "outputs": [],
   "source": [
    "gas = np.load('./gas_opt_log.npy')\n",
    "octa = np.load('./oct_smd_log.npy')"
   ]
  },
  {
   "cell_type": "code",
   "execution_count": 15,
   "metadata": {},
   "outputs": [],
   "source": [
    "df_gas = pd.DataFrame([i for i in gas], columns=['enerGas', 'Time', 'ID'])\n",
    "df_oct = pd.DataFrame([i for i in octa], columns=['enerOct', 'Time', 'ID'])"
   ]
  },
  {
   "cell_type": "code",
   "execution_count": 16,
   "metadata": {},
   "outputs": [
    {
     "data": {
      "text/plain": [
       "((66105, 3), (65085, 3))"
      ]
     },
     "execution_count": 16,
     "metadata": {},
     "output_type": "execute_result"
    }
   ],
   "source": [
    "df_gas.shape, df_oct.shape"
   ]
  },
  {
   "cell_type": "code",
   "execution_count": 18,
   "metadata": {},
   "outputs": [],
   "source": [
    "df_gas_use = df_gas[~pd.isnull(df_gas['enerGas'])].reset_index(drop=True)\n",
    "df_gas_use['enerGas'] = df_gas_use['enerGas'].astype(float)\n",
    "df_oct_use = df_oct[~pd.isnull(df_oct['enerOct'])].reset_index(drop=True)\n",
    "df_oct_use['enerOct'] = df_oct_use['enerOct'].astype(float)"
   ]
  },
  {
   "cell_type": "code",
   "execution_count": 19,
   "metadata": {},
   "outputs": [],
   "source": [
    "df_gas_group = df_gas_use.groupby('ID').min()\n",
    "df_gas_group['ID'] = df_gas_group.index\n",
    "df_gas_group.index = range(df_gas_group.shape[0])"
   ]
  },
  {
   "cell_type": "code",
   "execution_count": 22,
   "metadata": {},
   "outputs": [],
   "source": [
    "df_oct_group = df_oct_use.groupby('ID').min()\n",
    "df_oct_group['ID'] = df_oct_group.index\n",
    "df_oct_group.index = range(df_oct_group.shape[0])\n",
    "df_oct_group['ID'] = df_oct_group['ID'].astype(float)"
   ]
  },
  {
   "cell_type": "code",
   "execution_count": 23,
   "metadata": {},
   "outputs": [],
   "source": [
    "gasOct = df_gas_group.merge(df_oct_group, on='ID', how='inner')"
   ]
  },
  {
   "cell_type": "code",
   "execution_count": 25,
   "metadata": {},
   "outputs": [],
   "source": [
    "gasOct['CalcSol'] = 627.509*(gasOct['enerOct'].astype(float) - gasOct['enerGas'].astype(float))\n"
   ]
  },
  {
   "cell_type": "code",
   "execution_count": 26,
   "metadata": {},
   "outputs": [
    {
     "data": {
      "text/plain": [
       "(1428, 6)"
      ]
     },
     "execution_count": 26,
     "metadata": {},
     "output_type": "execute_result"
    }
   ],
   "source": [
    "gasOct.shape"
   ]
  },
  {
   "cell_type": "code",
   "execution_count": 29,
   "metadata": {},
   "outputs": [],
   "source": [
    "solvation_old = pd.read_csv('./solvation_processed.csv')"
   ]
  },
  {
   "cell_type": "code",
   "execution_count": 28,
   "metadata": {},
   "outputs": [
    {
     "data": {
      "text/html": [
       "<div>\n",
       "<style scoped>\n",
       "    .dataframe tbody tr th:only-of-type {\n",
       "        vertical-align: middle;\n",
       "    }\n",
       "\n",
       "    .dataframe tbody tr th {\n",
       "        vertical-align: top;\n",
       "    }\n",
       "\n",
       "    .dataframe thead th {\n",
       "        text-align: right;\n",
       "    }\n",
       "</style>\n",
       "<table border=\"1\" class=\"dataframe\">\n",
       "  <thead>\n",
       "    <tr style=\"text-align: right;\">\n",
       "      <th></th>\n",
       "      <th>enerGas</th>\n",
       "      <th>Time_x</th>\n",
       "      <th>ID</th>\n",
       "      <th>enerOct</th>\n",
       "      <th>Time_y</th>\n",
       "      <th>CalcSol</th>\n",
       "    </tr>\n",
       "  </thead>\n",
       "  <tbody>\n",
       "    <tr>\n",
       "      <th>0</th>\n",
       "      <td>-613.979557</td>\n",
       "      <td>1425.7</td>\n",
       "      <td>0.0</td>\n",
       "      <td>-613.995444</td>\n",
       "      <td>185.8</td>\n",
       "      <td>-9.969735</td>\n",
       "    </tr>\n",
       "    <tr>\n",
       "      <th>1</th>\n",
       "      <td>-594.084153</td>\n",
       "      <td>1519.9</td>\n",
       "      <td>1.0</td>\n",
       "      <td>-594.097688</td>\n",
       "      <td>196.2</td>\n",
       "      <td>-8.493551</td>\n",
       "    </tr>\n",
       "    <tr>\n",
       "      <th>2</th>\n",
       "      <td>-1559.887943</td>\n",
       "      <td>2.0</td>\n",
       "      <td>2.0</td>\n",
       "      <td>-1559.903539</td>\n",
       "      <td>371.2</td>\n",
       "      <td>-9.786317</td>\n",
       "    </tr>\n",
       "    <tr>\n",
       "      <th>3</th>\n",
       "      <td>-464.719491</td>\n",
       "      <td>1454.5</td>\n",
       "      <td>3.0</td>\n",
       "      <td>-464.731798</td>\n",
       "      <td>187.2</td>\n",
       "      <td>-7.722728</td>\n",
       "    </tr>\n",
       "    <tr>\n",
       "      <th>4</th>\n",
       "      <td>-468.352788</td>\n",
       "      <td>1293.3</td>\n",
       "      <td>4.0</td>\n",
       "      <td>-468.364757</td>\n",
       "      <td>188.1</td>\n",
       "      <td>-7.510363</td>\n",
       "    </tr>\n",
       "  </tbody>\n",
       "</table>\n",
       "</div>"
      ],
      "text/plain": [
       "       enerGas  Time_x   ID      enerOct Time_y   CalcSol\n",
       "0  -613.979557  1425.7  0.0  -613.995444  185.8 -9.969735\n",
       "1  -594.084153  1519.9  1.0  -594.097688  196.2 -8.493551\n",
       "2 -1559.887943     2.0  2.0 -1559.903539  371.2 -9.786317\n",
       "3  -464.719491  1454.5  3.0  -464.731798  187.2 -7.722728\n",
       "4  -468.352788  1293.3  4.0  -468.364757  188.1 -7.510363"
      ]
     },
     "execution_count": 28,
     "metadata": {},
     "output_type": "execute_result"
    }
   ],
   "source": [
    "gasOct.head()"
   ]
  },
  {
   "cell_type": "code",
   "execution_count": 30,
   "metadata": {},
   "outputs": [
    {
     "data": {
      "text/html": [
       "<div>\n",
       "<style scoped>\n",
       "    .dataframe tbody tr th:only-of-type {\n",
       "        vertical-align: middle;\n",
       "    }\n",
       "\n",
       "    .dataframe tbody tr th {\n",
       "        vertical-align: top;\n",
       "    }\n",
       "\n",
       "    .dataframe thead th {\n",
       "        text-align: right;\n",
       "    }\n",
       "</style>\n",
       "<table border=\"1\" class=\"dataframe\">\n",
       "  <thead>\n",
       "    <tr style=\"text-align: right;\">\n",
       "      <th></th>\n",
       "      <th>SMILES</th>\n",
       "      <th>InChI</th>\n",
       "      <th>SolEnergy</th>\n",
       "    </tr>\n",
       "  </thead>\n",
       "  <tbody>\n",
       "    <tr>\n",
       "      <th>0</th>\n",
       "      <td>CCCOC(=O)c1ccc(O)cc1</td>\n",
       "      <td>InChI=1S/C10H12O3/c1-2-7-13-10(12)8-3-5-9(11)6...</td>\n",
       "      <td>-9.370000</td>\n",
       "    </tr>\n",
       "    <tr>\n",
       "      <th>1</th>\n",
       "      <td>CCOc1ccc(N=C(C)O)cc1</td>\n",
       "      <td>InChI=1S/C10H13NO2/c1-3-13-10-6-4-9(5-7-10)11-...</td>\n",
       "      <td>-10.944049</td>\n",
       "    </tr>\n",
       "    <tr>\n",
       "      <th>2</th>\n",
       "      <td>CCOP(=S)(OCC)Oc1ccc([N+](=O)[O-])cc1</td>\n",
       "      <td>InChI=1S/C10H14NO5PS/c1-3-14-17(18,15-4-2)16-1...</td>\n",
       "      <td>-6.717396</td>\n",
       "    </tr>\n",
       "    <tr>\n",
       "      <th>3</th>\n",
       "      <td>CC(C)(C)c1ccc(O)cc1</td>\n",
       "      <td>InChI=1S/C10H14O/c1-10(2,3)8-4-6-9(11)7-5-8/h4...</td>\n",
       "      <td>-5.892801</td>\n",
       "    </tr>\n",
       "    <tr>\n",
       "      <th>4</th>\n",
       "      <td>CCCCCCCCC(C)=O</td>\n",
       "      <td>InChI=1S/C10H20O/c1-3-4-5-6-7-8-9-10(2)11/h3-9...</td>\n",
       "      <td>-2.212438</td>\n",
       "    </tr>\n",
       "  </tbody>\n",
       "</table>\n",
       "</div>"
      ],
      "text/plain": [
       "                                 SMILES  \\\n",
       "0                  CCCOC(=O)c1ccc(O)cc1   \n",
       "1                  CCOc1ccc(N=C(C)O)cc1   \n",
       "2  CCOP(=S)(OCC)Oc1ccc([N+](=O)[O-])cc1   \n",
       "3                   CC(C)(C)c1ccc(O)cc1   \n",
       "4                        CCCCCCCCC(C)=O   \n",
       "\n",
       "                                               InChI  SolEnergy  \n",
       "0  InChI=1S/C10H12O3/c1-2-7-13-10(12)8-3-5-9(11)6...  -9.370000  \n",
       "1  InChI=1S/C10H13NO2/c1-3-13-10-6-4-9(5-7-10)11-... -10.944049  \n",
       "2  InChI=1S/C10H14NO5PS/c1-3-14-17(18,15-4-2)16-1...  -6.717396  \n",
       "3  InChI=1S/C10H14O/c1-10(2,3)8-4-6-9(11)7-5-8/h4...  -5.892801  \n",
       "4  InChI=1S/C10H20O/c1-3-4-5-6-7-8-9-10(2)11/h3-9...  -2.212438  "
      ]
     },
     "execution_count": 30,
     "metadata": {},
     "output_type": "execute_result"
    }
   ],
   "source": [
    "solvation_old.head()"
   ]
  },
  {
   "cell_type": "code",
   "execution_count": 31,
   "metadata": {},
   "outputs": [],
   "source": [
    "#expSolDF = []\n",
    "#sourcesDF = []\n",
    "inchisDF = []\n",
    "for i in gasOct['ID'].tolist():\n",
    "    #expSolDF.append(expSol[int(i)])\n",
    "    #sourcesDF.append(sources[int(i)])\n",
    "    inchisDF.append(solvation_old['InChI'][int(i)])"
   ]
  },
  {
   "cell_type": "code",
   "execution_count": 33,
   "metadata": {},
   "outputs": [],
   "source": [
    "#gasOct['expSol'] = expSolDF\n",
    "#gasOct['sources'] = sourcesDF\n",
    "gasOct['InChI'] = inchisDF"
   ]
  },
  {
   "cell_type": "code",
   "execution_count": 35,
   "metadata": {},
   "outputs": [
    {
     "data": {
      "text/html": [
       "<div>\n",
       "<style scoped>\n",
       "    .dataframe tbody tr th:only-of-type {\n",
       "        vertical-align: middle;\n",
       "    }\n",
       "\n",
       "    .dataframe tbody tr th {\n",
       "        vertical-align: top;\n",
       "    }\n",
       "\n",
       "    .dataframe thead th {\n",
       "        text-align: right;\n",
       "    }\n",
       "</style>\n",
       "<table border=\"1\" class=\"dataframe\">\n",
       "  <thead>\n",
       "    <tr style=\"text-align: right;\">\n",
       "      <th></th>\n",
       "      <th>enerGas</th>\n",
       "      <th>Time_x</th>\n",
       "      <th>ID</th>\n",
       "      <th>enerOct</th>\n",
       "      <th>Time_y</th>\n",
       "      <th>CalcSol</th>\n",
       "      <th>InChI</th>\n",
       "    </tr>\n",
       "  </thead>\n",
       "  <tbody>\n",
       "    <tr>\n",
       "      <th>0</th>\n",
       "      <td>-613.979557</td>\n",
       "      <td>1425.7</td>\n",
       "      <td>0.0</td>\n",
       "      <td>-613.995444</td>\n",
       "      <td>185.8</td>\n",
       "      <td>-9.969735</td>\n",
       "      <td>InChI=1S/C10H12O3/c1-2-7-13-10(12)8-3-5-9(11)6...</td>\n",
       "    </tr>\n",
       "    <tr>\n",
       "      <th>1</th>\n",
       "      <td>-594.084153</td>\n",
       "      <td>1519.9</td>\n",
       "      <td>1.0</td>\n",
       "      <td>-594.097688</td>\n",
       "      <td>196.2</td>\n",
       "      <td>-8.493551</td>\n",
       "      <td>InChI=1S/C10H13NO2/c1-3-13-10-6-4-9(5-7-10)11-...</td>\n",
       "    </tr>\n",
       "    <tr>\n",
       "      <th>2</th>\n",
       "      <td>-1559.887943</td>\n",
       "      <td>2.0</td>\n",
       "      <td>2.0</td>\n",
       "      <td>-1559.903539</td>\n",
       "      <td>371.2</td>\n",
       "      <td>-9.786317</td>\n",
       "      <td>InChI=1S/C10H14NO5PS/c1-3-14-17(18,15-4-2)16-1...</td>\n",
       "    </tr>\n",
       "    <tr>\n",
       "      <th>3</th>\n",
       "      <td>-464.719491</td>\n",
       "      <td>1454.5</td>\n",
       "      <td>3.0</td>\n",
       "      <td>-464.731798</td>\n",
       "      <td>187.2</td>\n",
       "      <td>-7.722728</td>\n",
       "      <td>InChI=1S/C10H14O/c1-10(2,3)8-4-6-9(11)7-5-8/h4...</td>\n",
       "    </tr>\n",
       "    <tr>\n",
       "      <th>4</th>\n",
       "      <td>-468.352788</td>\n",
       "      <td>1293.3</td>\n",
       "      <td>4.0</td>\n",
       "      <td>-468.364757</td>\n",
       "      <td>188.1</td>\n",
       "      <td>-7.510363</td>\n",
       "      <td>InChI=1S/C10H20O/c1-3-4-5-6-7-8-9-10(2)11/h3-9...</td>\n",
       "    </tr>\n",
       "  </tbody>\n",
       "</table>\n",
       "</div>"
      ],
      "text/plain": [
       "       enerGas  Time_x   ID      enerOct Time_y   CalcSol  \\\n",
       "0  -613.979557  1425.7  0.0  -613.995444  185.8 -9.969735   \n",
       "1  -594.084153  1519.9  1.0  -594.097688  196.2 -8.493551   \n",
       "2 -1559.887943     2.0  2.0 -1559.903539  371.2 -9.786317   \n",
       "3  -464.719491  1454.5  3.0  -464.731798  187.2 -7.722728   \n",
       "4  -468.352788  1293.3  4.0  -468.364757  188.1 -7.510363   \n",
       "\n",
       "                                               InChI  \n",
       "0  InChI=1S/C10H12O3/c1-2-7-13-10(12)8-3-5-9(11)6...  \n",
       "1  InChI=1S/C10H13NO2/c1-3-13-10-6-4-9(5-7-10)11-...  \n",
       "2  InChI=1S/C10H14NO5PS/c1-3-14-17(18,15-4-2)16-1...  \n",
       "3  InChI=1S/C10H14O/c1-10(2,3)8-4-6-9(11)7-5-8/h4...  \n",
       "4  InChI=1S/C10H20O/c1-3-4-5-6-7-8-9-10(2)11/h3-9...  "
      ]
     },
     "execution_count": 35,
     "metadata": {},
     "output_type": "execute_result"
    }
   ],
   "source": [
    "gasOct.head()"
   ]
  },
  {
   "cell_type": "code",
   "execution_count": 67,
   "metadata": {},
   "outputs": [],
   "source": [
    "gasOct_use = gasOct[['InChI', 'CalcSol', 'Time_x', 'Time_y']]"
   ]
  },
  {
   "cell_type": "markdown",
   "metadata": {},
   "source": [
    "Make ups"
   ]
  },
  {
   "cell_type": "code",
   "execution_count": 47,
   "metadata": {},
   "outputs": [],
   "source": [
    "makeups_gas = np.load('./makeups_gas_opt_log.npy')\n",
    "dfMakeup_gas = pd.DataFrame([i for i in makeups_gas], columns=['enerGas', 'Time', 'ID'])\n",
    "dfMakeup_gas_use = dfMakeup_gas[~pd.isnull(dfMakeup_gas['enerGas'])].reset_index(drop=True)\n",
    "dfMakeup_gas_use['enerGas'] = dfMakeup_gas_use['enerGas'].astype(float)"
   ]
  },
  {
   "cell_type": "code",
   "execution_count": 48,
   "metadata": {},
   "outputs": [],
   "source": [
    "dfMakeup_gas_group = dfMakeup_gas_use.groupby('ID').min()\n",
    "dfMakeup_gas_group['ID'] = dfMakeup_gas_group.index\n",
    "dfMakeup_gas_group.index = range(dfMakeup_gas_group.shape[0])"
   ]
  },
  {
   "cell_type": "code",
   "execution_count": 49,
   "metadata": {},
   "outputs": [],
   "source": [
    "makeups_oct = np.load('./makeups_oct_opt_log.npy')\n",
    "dfMakeup_oct = pd.DataFrame([i for i in makeups_oct], columns=['enerOct', 'Time', 'ID'])\n",
    "dfMakeup_oct_use = dfMakeup_oct[~pd.isnull(dfMakeup_oct['enerOct'])].reset_index(drop=True)\n",
    "dfMakeup_oct_use['enerOct'] = dfMakeup_oct_use['enerOct'].astype(float)"
   ]
  },
  {
   "cell_type": "code",
   "execution_count": 51,
   "metadata": {},
   "outputs": [],
   "source": [
    "dfMakeup_oct_group = dfMakeup_oct_use.groupby('ID').min()\n",
    "dfMakeup_oct_group['ID'] = dfMakeup_oct_group.index\n",
    "dfMakeup_oct_group.index = range(dfMakeup_oct_group.shape[0])"
   ]
  },
  {
   "cell_type": "code",
   "execution_count": 57,
   "metadata": {},
   "outputs": [],
   "source": [
    "Makeup_gasOct = dfMakeup_gas_group.merge(dfMakeup_oct_group, on='ID', how='inner')"
   ]
  },
  {
   "cell_type": "code",
   "execution_count": 58,
   "metadata": {},
   "outputs": [
    {
     "data": {
      "text/plain": [
       "(108, 5)"
      ]
     },
     "execution_count": 58,
     "metadata": {},
     "output_type": "execute_result"
    }
   ],
   "source": [
    "Makeup_gasOct.shape"
   ]
  },
  {
   "cell_type": "code",
   "execution_count": 59,
   "metadata": {},
   "outputs": [
    {
     "data": {
      "text/html": [
       "<div>\n",
       "<style scoped>\n",
       "    .dataframe tbody tr th:only-of-type {\n",
       "        vertical-align: middle;\n",
       "    }\n",
       "\n",
       "    .dataframe tbody tr th {\n",
       "        vertical-align: top;\n",
       "    }\n",
       "\n",
       "    .dataframe thead th {\n",
       "        text-align: right;\n",
       "    }\n",
       "</style>\n",
       "<table border=\"1\" class=\"dataframe\">\n",
       "  <thead>\n",
       "    <tr style=\"text-align: right;\">\n",
       "      <th></th>\n",
       "      <th>enerGas</th>\n",
       "      <th>Time_x</th>\n",
       "      <th>ID</th>\n",
       "      <th>enerOct</th>\n",
       "      <th>Time_y</th>\n",
       "    </tr>\n",
       "  </thead>\n",
       "  <tbody>\n",
       "    <tr>\n",
       "      <th>0</th>\n",
       "      <td>-1915.968185</td>\n",
       "      <td>7.1</td>\n",
       "      <td>1.0</td>\n",
       "      <td>-1915.987878</td>\n",
       "      <td>305.9</td>\n",
       "    </tr>\n",
       "    <tr>\n",
       "      <th>1</th>\n",
       "      <td>-1916.516335</td>\n",
       "      <td>1.7</td>\n",
       "      <td>2.0</td>\n",
       "      <td>-1916.534003</td>\n",
       "      <td>447.6</td>\n",
       "    </tr>\n",
       "    <tr>\n",
       "      <th>2</th>\n",
       "      <td>-2275.113035</td>\n",
       "      <td>33.6</td>\n",
       "      <td>3.0</td>\n",
       "      <td>-2275.130400</td>\n",
       "      <td>404.4</td>\n",
       "    </tr>\n",
       "    <tr>\n",
       "      <th>3</th>\n",
       "      <td>-1560.418668</td>\n",
       "      <td>43.1</td>\n",
       "      <td>4.0</td>\n",
       "      <td>-1560.434586</td>\n",
       "      <td>445.1</td>\n",
       "    </tr>\n",
       "    <tr>\n",
       "      <th>4</th>\n",
       "      <td>-1064.509496</td>\n",
       "      <td>0.9</td>\n",
       "      <td>5.0</td>\n",
       "      <td>-1064.531058</td>\n",
       "      <td>269.5</td>\n",
       "    </tr>\n",
       "  </tbody>\n",
       "</table>\n",
       "</div>"
      ],
      "text/plain": [
       "       enerGas  Time_x   ID      enerOct  Time_y\n",
       "0 -1915.968185     7.1  1.0 -1915.987878   305.9\n",
       "1 -1916.516335     1.7  2.0 -1916.534003   447.6\n",
       "2 -2275.113035    33.6  3.0 -2275.130400   404.4\n",
       "3 -1560.418668    43.1  4.0 -1560.434586   445.1\n",
       "4 -1064.509496     0.9  5.0 -1064.531058   269.5"
      ]
     },
     "execution_count": 59,
     "metadata": {},
     "output_type": "execute_result"
    }
   ],
   "source": [
    "Makeup_gasOct.head()"
   ]
  },
  {
   "cell_type": "code",
   "execution_count": 60,
   "metadata": {},
   "outputs": [],
   "source": [
    "Makeup_gasOct['CalcSol'] = 627.509*(Makeup_gasOct['enerOct'].astype(float) - Makeup_gasOct['enerGas'].astype(float))\n",
    "\n"
   ]
  },
  {
   "cell_type": "code",
   "execution_count": 62,
   "metadata": {},
   "outputs": [],
   "source": [
    "dfMakeup = pd.read_csv('./solvation_makeup.csv')"
   ]
  },
  {
   "cell_type": "code",
   "execution_count": 63,
   "metadata": {},
   "outputs": [],
   "source": [
    "Makeup_inchi = []\n",
    "Makeup_smi = []\n",
    "for id_ in Makeup_gasOct['ID']:\n",
    "    Makeup_inchi.append(dfMakeup['InChI'].tolist()[int(id_)])\n",
    "    Makeup_smi.append(dfMakeup['SMILES'].tolist()[int(id_)])"
   ]
  },
  {
   "cell_type": "code",
   "execution_count": 65,
   "metadata": {},
   "outputs": [],
   "source": [
    "Makeup_gasOct['SMILES'] = Makeup_smi\n",
    "Makeup_gasOct['InChI'] = Makeup_inchi"
   ]
  },
  {
   "cell_type": "code",
   "execution_count": 66,
   "metadata": {},
   "outputs": [],
   "source": [
    "Makeup_gasOct_use = Makeup_gasOct[['InChI', 'CalcSol', 'Time_x', 'Time_y']]"
   ]
  },
  {
   "cell_type": "code",
   "execution_count": 69,
   "metadata": {},
   "outputs": [],
   "source": [
    "gasOct_all = pd.concat([gasOct_use, Makeup_gasOct_use]).reset_index(drop=True)"
   ]
  },
  {
   "cell_type": "code",
   "execution_count": 78,
   "metadata": {},
   "outputs": [],
   "source": [
    "gasOct_all.to_csv('./solvation_octanol_calc.csv', index=False)"
   ]
  },
  {
   "cell_type": "code",
   "execution_count": null,
   "metadata": {},
   "outputs": [],
   "source": []
  },
  {
   "cell_type": "code",
   "execution_count": 70,
   "metadata": {},
   "outputs": [],
   "source": [
    "compare = minne_use1.merge(gasOct_all, on='InChI', how='left')"
   ]
  },
  {
   "cell_type": "code",
   "execution_count": 71,
   "metadata": {},
   "outputs": [
    {
     "data": {
      "text/plain": [
       "(246, 11)"
      ]
     },
     "execution_count": 71,
     "metadata": {},
     "output_type": "execute_result"
    }
   ],
   "source": [
    "compare.shape"
   ]
  },
  {
   "cell_type": "code",
   "execution_count": 72,
   "metadata": {},
   "outputs": [],
   "source": [
    "compare_use = compare[~pd.isnull(compare['CalcSol'])].reset_index(drop=True)"
   ]
  },
  {
   "cell_type": "code",
   "execution_count": 73,
   "metadata": {},
   "outputs": [
    {
     "data": {
      "text/plain": [
       "(227, 11)"
      ]
     },
     "execution_count": 73,
     "metadata": {},
     "output_type": "execute_result"
    }
   ],
   "source": [
    "compare_use.shape"
   ]
  },
  {
   "cell_type": "code",
   "execution_count": 74,
   "metadata": {},
   "outputs": [
    {
     "data": {
      "text/html": [
       "<div>\n",
       "<style scoped>\n",
       "    .dataframe tbody tr th:only-of-type {\n",
       "        vertical-align: middle;\n",
       "    }\n",
       "\n",
       "    .dataframe tbody tr th {\n",
       "        vertical-align: top;\n",
       "    }\n",
       "\n",
       "    .dataframe thead th {\n",
       "        text-align: right;\n",
       "    }\n",
       "</style>\n",
       "<table border=\"1\" class=\"dataframe\">\n",
       "  <thead>\n",
       "    <tr style=\"text-align: right;\">\n",
       "      <th></th>\n",
       "      <th>FileHandle</th>\n",
       "      <th>SoluteName</th>\n",
       "      <th>SMILES</th>\n",
       "      <th>Sol</th>\n",
       "      <th>Mol</th>\n",
       "      <th>InChI</th>\n",
       "      <th>RB</th>\n",
       "      <th>MW</th>\n",
       "      <th>CalcSol</th>\n",
       "      <th>Time_x</th>\n",
       "      <th>Time_y</th>\n",
       "    </tr>\n",
       "  </thead>\n",
       "  <tbody>\n",
       "    <tr>\n",
       "      <th>0</th>\n",
       "      <td>0008noc</td>\n",
       "      <td>n-octane</td>\n",
       "      <td>C(CCCC)CCC</td>\n",
       "      <td>-4.18</td>\n",
       "      <td>&lt;rdkit.Chem.rdchem.Mol object at 0x1a222792b0&gt;</td>\n",
       "      <td>InChI=1S/C8H18/c1-3-5-7-8-6-4-2/h3-8H2,1-2H3</td>\n",
       "      <td>5</td>\n",
       "      <td>114.140851</td>\n",
       "      <td>-3.280843</td>\n",
       "      <td>892.6</td>\n",
       "      <td>125.6</td>\n",
       "    </tr>\n",
       "    <tr>\n",
       "      <th>1</th>\n",
       "      <td>0036tol</td>\n",
       "      <td>toluene</td>\n",
       "      <td>c1cc(ccc1)C</td>\n",
       "      <td>-4.55</td>\n",
       "      <td>&lt;rdkit.Chem.rdchem.Mol object at 0x1a222795d0&gt;</td>\n",
       "      <td>InChI=1S/C7H8/c1-7-5-3-2-4-6-7/h2-6H,1H3</td>\n",
       "      <td>0</td>\n",
       "      <td>92.062600</td>\n",
       "      <td>-3.889298</td>\n",
       "      <td>411.3</td>\n",
       "      <td>78.1</td>\n",
       "    </tr>\n",
       "    <tr>\n",
       "      <th>2</th>\n",
       "      <td>0045eth</td>\n",
       "      <td>ethanol</td>\n",
       "      <td>OCC</td>\n",
       "      <td>-4.36</td>\n",
       "      <td>&lt;rdkit.Chem.rdchem.Mol object at 0x1a22279620&gt;</td>\n",
       "      <td>InChI=1S/C2H6O/c1-2-3/h3H,2H2,1H3</td>\n",
       "      <td>0</td>\n",
       "      <td>46.041865</td>\n",
       "      <td>-4.877454</td>\n",
       "      <td>79.7</td>\n",
       "      <td>28.1</td>\n",
       "    </tr>\n",
       "    <tr>\n",
       "      <th>3</th>\n",
       "      <td>0062dio</td>\n",
       "      <td>1,4-dioxane</td>\n",
       "      <td>C1COCCO1</td>\n",
       "      <td>-4.89</td>\n",
       "      <td>&lt;rdkit.Chem.rdchem.Mol object at 0x1a22279670&gt;</td>\n",
       "      <td>InChI=1S/C4H8O2/c1-2-6-4-3-5-1/h1-4H2</td>\n",
       "      <td>0</td>\n",
       "      <td>88.052429</td>\n",
       "      <td>-4.840148</td>\n",
       "      <td>194.3</td>\n",
       "      <td>41.9</td>\n",
       "    </tr>\n",
       "    <tr>\n",
       "      <th>4</th>\n",
       "      <td>0076but</td>\n",
       "      <td>2-butanone</td>\n",
       "      <td>CCC(=O)C</td>\n",
       "      <td>-3.78</td>\n",
       "      <td>&lt;rdkit.Chem.rdchem.Mol object at 0x1a222796c0&gt;</td>\n",
       "      <td>InChI=1S/C4H8O/c1-3-4(2)5/h3H2,1-2H3</td>\n",
       "      <td>1</td>\n",
       "      <td>72.057515</td>\n",
       "      <td>-4.807323</td>\n",
       "      <td>217.3</td>\n",
       "      <td>59.5</td>\n",
       "    </tr>\n",
       "  </tbody>\n",
       "</table>\n",
       "</div>"
      ],
      "text/plain": [
       "  FileHandle   SoluteName       SMILES   Sol  \\\n",
       "0    0008noc     n-octane   C(CCCC)CCC -4.18   \n",
       "1    0036tol      toluene  c1cc(ccc1)C -4.55   \n",
       "2    0045eth      ethanol          OCC -4.36   \n",
       "3    0062dio  1,4-dioxane     C1COCCO1 -4.89   \n",
       "4    0076but   2-butanone     CCC(=O)C -3.78   \n",
       "\n",
       "                                              Mol  \\\n",
       "0  <rdkit.Chem.rdchem.Mol object at 0x1a222792b0>   \n",
       "1  <rdkit.Chem.rdchem.Mol object at 0x1a222795d0>   \n",
       "2  <rdkit.Chem.rdchem.Mol object at 0x1a22279620>   \n",
       "3  <rdkit.Chem.rdchem.Mol object at 0x1a22279670>   \n",
       "4  <rdkit.Chem.rdchem.Mol object at 0x1a222796c0>   \n",
       "\n",
       "                                          InChI  RB          MW   CalcSol  \\\n",
       "0  InChI=1S/C8H18/c1-3-5-7-8-6-4-2/h3-8H2,1-2H3   5  114.140851 -3.280843   \n",
       "1      InChI=1S/C7H8/c1-7-5-3-2-4-6-7/h2-6H,1H3   0   92.062600 -3.889298   \n",
       "2             InChI=1S/C2H6O/c1-2-3/h3H,2H2,1H3   0   46.041865 -4.877454   \n",
       "3         InChI=1S/C4H8O2/c1-2-6-4-3-5-1/h1-4H2   0   88.052429 -4.840148   \n",
       "4          InChI=1S/C4H8O/c1-3-4(2)5/h3H2,1-2H3   1   72.057515 -4.807323   \n",
       "\n",
       "   Time_x Time_y  \n",
       "0   892.6  125.6  \n",
       "1   411.3   78.1  \n",
       "2    79.7   28.1  \n",
       "3   194.3   41.9  \n",
       "4   217.3   59.5  "
      ]
     },
     "execution_count": 74,
     "metadata": {},
     "output_type": "execute_result"
    }
   ],
   "source": [
    "compare_use.head()"
   ]
  },
  {
   "cell_type": "code",
   "execution_count": 75,
   "metadata": {},
   "outputs": [
    {
     "data": {
      "text/plain": [
       "1.3782069674594644"
      ]
     },
     "execution_count": 75,
     "metadata": {},
     "output_type": "execute_result"
    }
   ],
   "source": [
    "mean_absolute_error(compare_use['Sol'], compare_use['CalcSol'])"
   ]
  },
  {
   "cell_type": "code",
   "execution_count": 76,
   "metadata": {},
   "outputs": [
    {
     "data": {
      "text/plain": [
       "2.064107907995684"
      ]
     },
     "execution_count": 76,
     "metadata": {},
     "output_type": "execute_result"
    }
   ],
   "source": [
    "np.sqrt(mean_squared_error(compare_use['Sol'], compare_use['CalcSol']))"
   ]
  },
  {
   "cell_type": "code",
   "execution_count": 95,
   "metadata": {},
   "outputs": [
    {
     "data": {
      "text/plain": [
       "0.8169250066578468"
      ]
     },
     "execution_count": 95,
     "metadata": {},
     "output_type": "execute_result"
    }
   ],
   "source": [
    "r2(compare_use['Sol'], compare_use['CalcSol'])"
   ]
  },
  {
   "cell_type": "code",
   "execution_count": 186,
   "metadata": {},
   "outputs": [
    {
     "data": {
      "image/png": "[encoded data removed]",
      "text/plain": [
       "<Figure size 432x432 with 3 Axes>"
      ]
     },
     "metadata": {
      "needs_background": "light"
     },
     "output_type": "display_data"
    }
   ],
   "source": [
    "#fig, ax = plt.subplots()\n",
    "j = sns.jointplot('Sol', 'CalcSol', data=compare_use, kind=\"reg\")\n",
    "j.set_axis_labels('Experimental', 'Theoretical', fontsize=16)\n",
    "plt.text(-23,2, \"R2: 0.82\", fontsize = 12, color='Black')\n",
    "plt.text(-23,3.2, \"RMSE: 2.06\", fontsize = 12, color='Black')\n",
    "plt.text(-23,4.4, \"MAE: 1.38\", fontsize = 12, color='Black')\n",
    "\n",
    "#j.annotate(r2)\n",
    "#plt.annotate('Something', xy=(0.05, 0.05), xycoords='axes fraction')\n",
    "#plt.legend()\n",
    "#j.ax_joint.collections[0].set_alpha(0)\n",
    "#plt.text('r2')\n",
    "#plt.tight_layout()\n",
    "#plt.show()\n",
    "j.savefig('./solvation_summary/expCalc_Minnesota.svg', format='svg', dpi=1200)"
   ]
  },
  {
   "cell_type": "code",
   "execution_count": null,
   "metadata": {},
   "outputs": [],
   "source": []
  }
 ],
 "metadata": {
  "kernelspec": {
   "display_name": "Python 3",
   "language": "python",
   "name": "python3"
  },
  "language_info": {
   "codemirror_mode": {
    "name": "ipython",
    "version": 3
   },
   "file_extension": ".py",
   "mimetype": "text/x-python",
   "name": "python",
   "nbconvert_exporter": "python",
   "pygments_lexer": "ipython3",
   "version": "3.7.1"
  }
 },
 "nbformat": 4,
 "nbformat_minor": 2
}
